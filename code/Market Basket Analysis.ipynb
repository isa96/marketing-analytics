{
 "cells": [
  {
   "cell_type": "markdown",
   "metadata": {},
   "source": [
    "# Market Basket Analysis"
   ]
  },
  {
   "cell_type": "markdown",
   "metadata": {},
   "source": [
    "- Market Basket Analysis (MBA) kali ini menggunakan algoritma apriori\n",
    "- Dataset yang digunakan merupakan dataset dari BurgerStar, sebuah perusahaan fiktif yang bergerak di bidang restoran cepat saji."
   ]
  },
  {
   "cell_type": "markdown",
   "metadata": {},
   "source": [
    "## Case Story\n",
    "- Slamet merupakan salah satu tim data science di restoran BurgerStar yang sudah memiliki kurang lebih 300 cabang di Indonesia.\n",
    "- Hari ini Slamet ditugaskan untuk menganalisis di salah satu cabang BurgerStar di Solo karena cabang tersebut baru dibuka selama satu minggu dan butuh promo - promo menarik agar pelanggan berdatangan.\n",
    "- Slamet mendapatkan data hari 1 penjualan dan mencoba menganalisa data sehingga Slamet bisa memberikan rekomendasi yang tepat untuk BurgerStar cabang solo."
   ]
  },
  {
   "cell_type": "markdown",
   "metadata": {},
   "source": [
    "## Load Library"
   ]
  },
  {
   "cell_type": "code",
   "execution_count": 1,
   "metadata": {},
   "outputs": [],
   "source": [
    "import pandas as pd\n",
    "import numpy as np\n",
    "import matplotlib.pyplot as plt\n",
    "import seaborn as sns\n",
    "from mlxtend.frequent_patterns import apriori\n",
    "from mlxtend.frequent_patterns import association_rules\n",
    "from mlxtend.preprocessing import TransactionEncoder\n",
    "import warnings\n",
    "warnings.filterwarnings('ignore')"
   ]
  },
  {
   "cell_type": "markdown",
   "metadata": {},
   "source": [
    "## Load Dataset"
   ]
  },
  {
   "cell_type": "code",
   "execution_count": 2,
   "metadata": {},
   "outputs": [],
   "source": [
    "df = pd.read_csv('C:\\\\Users\\\\msi\\\\Documents\\\\Jupyter\\\\18. Unsupervised 2\\\\proyek\\\\dataset\\\\data_burgerstar.csv')"
   ]
  },
  {
   "cell_type": "code",
   "execution_count": 3,
   "metadata": {},
   "outputs": [
    {
     "data": {
      "text/html": [
       "<div>\n",
       "<style scoped>\n",
       "    .dataframe tbody tr th:only-of-type {\n",
       "        vertical-align: middle;\n",
       "    }\n",
       "\n",
       "    .dataframe tbody tr th {\n",
       "        vertical-align: top;\n",
       "    }\n",
       "\n",
       "    .dataframe thead th {\n",
       "        text-align: right;\n",
       "    }\n",
       "</style>\n",
       "<table border=\"1\" class=\"dataframe\">\n",
       "  <thead>\n",
       "    <tr style=\"text-align: right;\">\n",
       "      <th></th>\n",
       "      <th>Timestamp</th>\n",
       "      <th>Type Burger</th>\n",
       "      <th>Code Burger</th>\n",
       "      <th>Amount Burger</th>\n",
       "      <th>Type Drink</th>\n",
       "      <th>Code Drink</th>\n",
       "      <th>Amount Drink</th>\n",
       "      <th>Gender</th>\n",
       "      <th>Payment</th>\n",
       "    </tr>\n",
       "  </thead>\n",
       "  <tbody>\n",
       "    <tr>\n",
       "      <th>0</th>\n",
       "      <td>10:01</td>\n",
       "      <td>Beef burger</td>\n",
       "      <td>1</td>\n",
       "      <td>6</td>\n",
       "      <td>Mineral water</td>\n",
       "      <td>1</td>\n",
       "      <td>3</td>\n",
       "      <td>1</td>\n",
       "      <td>DANA</td>\n",
       "    </tr>\n",
       "    <tr>\n",
       "      <th>1</th>\n",
       "      <td>10:04</td>\n",
       "      <td>Cheese burger</td>\n",
       "      <td>3</td>\n",
       "      <td>12</td>\n",
       "      <td>Coke</td>\n",
       "      <td>2</td>\n",
       "      <td>10</td>\n",
       "      <td>0</td>\n",
       "      <td>DANA</td>\n",
       "    </tr>\n",
       "    <tr>\n",
       "      <th>2</th>\n",
       "      <td>10:05</td>\n",
       "      <td>Double cheese burger</td>\n",
       "      <td>4</td>\n",
       "      <td>10</td>\n",
       "      <td>Mineral water</td>\n",
       "      <td>1</td>\n",
       "      <td>5</td>\n",
       "      <td>0</td>\n",
       "      <td>LINK AJA</td>\n",
       "    </tr>\n",
       "    <tr>\n",
       "      <th>3</th>\n",
       "      <td>10:06</td>\n",
       "      <td>Chicken burger</td>\n",
       "      <td>2</td>\n",
       "      <td>9</td>\n",
       "      <td>Coffe</td>\n",
       "      <td>3</td>\n",
       "      <td>9</td>\n",
       "      <td>0</td>\n",
       "      <td>DANA</td>\n",
       "    </tr>\n",
       "    <tr>\n",
       "      <th>4</th>\n",
       "      <td>10:07</td>\n",
       "      <td>Cheese burger</td>\n",
       "      <td>3</td>\n",
       "      <td>11</td>\n",
       "      <td>Coke</td>\n",
       "      <td>2</td>\n",
       "      <td>3</td>\n",
       "      <td>1</td>\n",
       "      <td>DANA</td>\n",
       "    </tr>\n",
       "  </tbody>\n",
       "</table>\n",
       "</div>"
      ],
      "text/plain": [
       "  Timestamp           Type Burger  Code Burger  Amount Burger     Type Drink  \\\n",
       "0     10:01           Beef burger            1              6  Mineral water   \n",
       "1     10:04         Cheese burger            3             12           Coke   \n",
       "2     10:05  Double cheese burger            4             10  Mineral water   \n",
       "3     10:06        Chicken burger            2              9          Coffe   \n",
       "4     10:07         Cheese burger            3             11           Coke   \n",
       "\n",
       "   Code Drink  Amount Drink  Gender   Payment  \n",
       "0           1             3       1      DANA  \n",
       "1           2            10       0      DANA  \n",
       "2           1             5       0  LINK AJA  \n",
       "3           3             9       0      DANA  \n",
       "4           2             3       1      DANA  "
      ]
     },
     "execution_count": 3,
     "metadata": {},
     "output_type": "execute_result"
    }
   ],
   "source": [
    "df.head()"
   ]
  },
  {
   "cell_type": "markdown",
   "metadata": {},
   "source": [
    "- Beberapa features yang ada di BurgerStar:\n",
    "    1. Timestamp merupakan waktu dimana transaksi terjadi\n",
    "    2. Type Burger merupakan jenis burger yang terjual\n",
    "    3. Code Burger merupakan code dari burger yang terjual\n",
    "    4. Amount Burger adalah jumlah burger yang terjual\n",
    "    5. Type Drink adalah jenis minuman yang terjual\n",
    "    6. Code Drink merupakan code dari minuman yang terjual\n",
    "    7. Amount Drink adalah jumlah minuman yang terjual\n",
    "    8. Gender merupakan jenis kelamin dari customer\n",
    "    9. Payment merupakan metode pembayaran yang digunakan"
   ]
  },
  {
   "cell_type": "markdown",
   "metadata": {},
   "source": [
    "- Features yang akan saya gunakan adalah type burger dan type drink sehingga features yang lain akan di drop"
   ]
  },
  {
   "cell_type": "code",
   "execution_count": 4,
   "metadata": {},
   "outputs": [],
   "source": [
    "df.drop(columns=['Timestamp','Code Burger','Amount Burger','Code Drink','Amount Drink', 'Gender', 'Payment'], inplace=True)"
   ]
  },
  {
   "cell_type": "code",
   "execution_count": 5,
   "metadata": {},
   "outputs": [
    {
     "data": {
      "text/html": [
       "<div>\n",
       "<style scoped>\n",
       "    .dataframe tbody tr th:only-of-type {\n",
       "        vertical-align: middle;\n",
       "    }\n",
       "\n",
       "    .dataframe tbody tr th {\n",
       "        vertical-align: top;\n",
       "    }\n",
       "\n",
       "    .dataframe thead th {\n",
       "        text-align: right;\n",
       "    }\n",
       "</style>\n",
       "<table border=\"1\" class=\"dataframe\">\n",
       "  <thead>\n",
       "    <tr style=\"text-align: right;\">\n",
       "      <th></th>\n",
       "      <th>Type Burger</th>\n",
       "      <th>Type Drink</th>\n",
       "    </tr>\n",
       "  </thead>\n",
       "  <tbody>\n",
       "    <tr>\n",
       "      <th>0</th>\n",
       "      <td>Beef burger</td>\n",
       "      <td>Mineral water</td>\n",
       "    </tr>\n",
       "    <tr>\n",
       "      <th>1</th>\n",
       "      <td>Cheese burger</td>\n",
       "      <td>Coke</td>\n",
       "    </tr>\n",
       "    <tr>\n",
       "      <th>2</th>\n",
       "      <td>Double cheese burger</td>\n",
       "      <td>Mineral water</td>\n",
       "    </tr>\n",
       "    <tr>\n",
       "      <th>3</th>\n",
       "      <td>Chicken burger</td>\n",
       "      <td>Coffe</td>\n",
       "    </tr>\n",
       "    <tr>\n",
       "      <th>4</th>\n",
       "      <td>Cheese burger</td>\n",
       "      <td>Coke</td>\n",
       "    </tr>\n",
       "  </tbody>\n",
       "</table>\n",
       "</div>"
      ],
      "text/plain": [
       "            Type Burger     Type Drink\n",
       "0           Beef burger  Mineral water\n",
       "1         Cheese burger           Coke\n",
       "2  Double cheese burger  Mineral water\n",
       "3        Chicken burger          Coffe\n",
       "4         Cheese burger           Coke"
      ]
     },
     "execution_count": 5,
     "metadata": {},
     "output_type": "execute_result"
    }
   ],
   "source": [
    "df.head()"
   ]
  },
  {
   "cell_type": "markdown",
   "metadata": {},
   "source": [
    "## Sneak Peak to Data"
   ]
  },
  {
   "cell_type": "code",
   "execution_count": 6,
   "metadata": {},
   "outputs": [
    {
     "data": {
      "text/plain": [
       "(312, 2)"
      ]
     },
     "execution_count": 6,
     "metadata": {},
     "output_type": "execute_result"
    }
   ],
   "source": [
    "df.shape"
   ]
  },
  {
   "cell_type": "code",
   "execution_count": 7,
   "metadata": {},
   "outputs": [
    {
     "data": {
      "text/html": [
       "<div>\n",
       "<style scoped>\n",
       "    .dataframe tbody tr th:only-of-type {\n",
       "        vertical-align: middle;\n",
       "    }\n",
       "\n",
       "    .dataframe tbody tr th {\n",
       "        vertical-align: top;\n",
       "    }\n",
       "\n",
       "    .dataframe thead th {\n",
       "        text-align: right;\n",
       "    }\n",
       "</style>\n",
       "<table border=\"1\" class=\"dataframe\">\n",
       "  <thead>\n",
       "    <tr style=\"text-align: right;\">\n",
       "      <th></th>\n",
       "      <th>Type Burger</th>\n",
       "      <th>Type Drink</th>\n",
       "    </tr>\n",
       "  </thead>\n",
       "  <tbody>\n",
       "    <tr>\n",
       "      <th>count</th>\n",
       "      <td>312</td>\n",
       "      <td>312</td>\n",
       "    </tr>\n",
       "    <tr>\n",
       "      <th>unique</th>\n",
       "      <td>4</td>\n",
       "      <td>4</td>\n",
       "    </tr>\n",
       "    <tr>\n",
       "      <th>top</th>\n",
       "      <td>Beef burger</td>\n",
       "      <td>Mineral water</td>\n",
       "    </tr>\n",
       "    <tr>\n",
       "      <th>freq</th>\n",
       "      <td>116</td>\n",
       "      <td>109</td>\n",
       "    </tr>\n",
       "  </tbody>\n",
       "</table>\n",
       "</div>"
      ],
      "text/plain": [
       "        Type Burger     Type Drink\n",
       "count           312            312\n",
       "unique            4              4\n",
       "top     Beef burger  Mineral water\n",
       "freq            116            109"
      ]
     },
     "execution_count": 7,
     "metadata": {},
     "output_type": "execute_result"
    }
   ],
   "source": [
    "df.describe()"
   ]
  },
  {
   "cell_type": "code",
   "execution_count": 8,
   "metadata": {},
   "outputs": [
    {
     "name": "stdout",
     "output_type": "stream",
     "text": [
      "<class 'pandas.core.frame.DataFrame'>\n",
      "RangeIndex: 312 entries, 0 to 311\n",
      "Data columns (total 2 columns):\n",
      "Type Burger    312 non-null object\n",
      "Type Drink     312 non-null object\n",
      "dtypes: object(2)\n",
      "memory usage: 5.0+ KB\n"
     ]
    }
   ],
   "source": [
    "df.info()"
   ]
  },
  {
   "cell_type": "markdown",
   "metadata": {},
   "source": [
    "## Handling Missing Values"
   ]
  },
  {
   "cell_type": "code",
   "execution_count": 9,
   "metadata": {},
   "outputs": [
    {
     "data": {
      "text/plain": [
       "Type Burger    0\n",
       "Type Drink     0\n",
       "dtype: int64"
      ]
     },
     "execution_count": 9,
     "metadata": {},
     "output_type": "execute_result"
    }
   ],
   "source": [
    "df.isnull().sum()"
   ]
  },
  {
   "cell_type": "markdown",
   "metadata": {},
   "source": [
    "- Data sudah clean dan bisa dilanjutkan ke dalam tahapan Exploratory Data Analysis"
   ]
  },
  {
   "cell_type": "markdown",
   "metadata": {},
   "source": [
    "## Exploratory Data Analysis"
   ]
  },
  {
   "cell_type": "code",
   "execution_count": 10,
   "metadata": {},
   "outputs": [
    {
     "data": {
      "text/plain": [
       "<matplotlib.axes._subplots.AxesSubplot at 0x29378d2f198>"
      ]
     },
     "execution_count": 10,
     "metadata": {},
     "output_type": "execute_result"
    },
    {
     "data": {
      "image/png": "[encoded data removed]",
      "text/plain": [
       "<Figure size 720x360 with 1 Axes>"
      ]
     },
     "metadata": {
      "needs_background": "light"
     },
     "output_type": "display_data"
    }
   ],
   "source": [
    "#Jumlah burger yang terjual menurut code\n",
    "plt.figure(figsize=(10,5))\n",
    "plt.title('Frequency of Most Popular items')\n",
    "df['Type Burger'].value_counts().plot.bar()"
   ]
  },
  {
   "cell_type": "markdown",
   "metadata": {},
   "source": [
    "- Dapat dilihat bahwa jenis burger yang paling laris adalah jenis Beef Burger"
   ]
  },
  {
   "cell_type": "code",
   "execution_count": 11,
   "metadata": {},
   "outputs": [
    {
     "data": {
      "text/plain": [
       "<matplotlib.axes._subplots.AxesSubplot at 0x29379022940>"
      ]
     },
     "execution_count": 11,
     "metadata": {},
     "output_type": "execute_result"
    },
    {
     "data": {
      "image/png": "[encoded data removed]",
      "text/plain": [
       "<Figure size 720x360 with 1 Axes>"
      ]
     },
     "metadata": {
      "needs_background": "light"
     },
     "output_type": "display_data"
    }
   ],
   "source": [
    "#Jumlah drink yang terjual menurut code\n",
    "plt.figure(figsize=(10,5))\n",
    "plt.title('Frequency of Most Popular items')\n",
    "df['Type Drink'].value_counts().plot.bar(color='g')"
   ]
  },
  {
   "cell_type": "markdown",
   "metadata": {},
   "source": [
    "- Dapat dilihat bahwa jenis minuman yang paling laris adalah jenis mineral water\n",
    "- Ada juga pelanggan yang tidak membeli minum"
   ]
  },
  {
   "cell_type": "markdown",
   "metadata": {},
   "source": [
    "## Modelling and Conclusion"
   ]
  },
  {
   "cell_type": "markdown",
   "metadata": {},
   "source": [
    "- Karena apriori hanya menerima data dalam bentuk list, maka kita ubah dulu data kita menjadi list"
   ]
  },
  {
   "cell_type": "code",
   "execution_count": 12,
   "metadata": {},
   "outputs": [],
   "source": [
    "df_list = []\n",
    "for i in range(len(df)):\n",
    "    df_list.append([str(df.values[i,j]) for j in range(0,2)])"
   ]
  },
  {
   "cell_type": "markdown",
   "metadata": {},
   "source": [
    "- Setelah menjadi list, maka diubah ke dalam bentuk array"
   ]
  },
  {
   "cell_type": "code",
   "execution_count": 13,
   "metadata": {},
   "outputs": [
    {
     "data": {
      "text/plain": [
       "(312, 2)"
      ]
     },
     "execution_count": 13,
     "metadata": {},
     "output_type": "execute_result"
    }
   ],
   "source": [
    "df_list = np.asarray(df_list)\n",
    "df_list.shape"
   ]
  },
  {
   "cell_type": "markdown",
   "metadata": {},
   "source": [
    "- Agar data bisa dibaca, maka data diubah kedalam bentuk transaksi menggunakan TransactionEncoder"
   ]
  },
  {
   "cell_type": "code",
   "execution_count": 14,
   "metadata": {},
   "outputs": [
    {
     "data": {
      "text/html": [
       "<div>\n",
       "<style scoped>\n",
       "    .dataframe tbody tr th:only-of-type {\n",
       "        vertical-align: middle;\n",
       "    }\n",
       "\n",
       "    .dataframe tbody tr th {\n",
       "        vertical-align: top;\n",
       "    }\n",
       "\n",
       "    .dataframe thead th {\n",
       "        text-align: right;\n",
       "    }\n",
       "</style>\n",
       "<table border=\"1\" class=\"dataframe\">\n",
       "  <thead>\n",
       "    <tr style=\"text-align: right;\">\n",
       "      <th></th>\n",
       "      <th>Beef burger</th>\n",
       "      <th>Cheese burger</th>\n",
       "      <th>Chicken burger</th>\n",
       "      <th>Coffe</th>\n",
       "      <th>Coke</th>\n",
       "      <th>Double cheese burger</th>\n",
       "      <th>Mineral water</th>\n",
       "      <th>None</th>\n",
       "    </tr>\n",
       "  </thead>\n",
       "  <tbody>\n",
       "    <tr>\n",
       "      <th>0</th>\n",
       "      <td>True</td>\n",
       "      <td>False</td>\n",
       "      <td>False</td>\n",
       "      <td>False</td>\n",
       "      <td>False</td>\n",
       "      <td>False</td>\n",
       "      <td>True</td>\n",
       "      <td>False</td>\n",
       "    </tr>\n",
       "    <tr>\n",
       "      <th>1</th>\n",
       "      <td>False</td>\n",
       "      <td>True</td>\n",
       "      <td>False</td>\n",
       "      <td>False</td>\n",
       "      <td>True</td>\n",
       "      <td>False</td>\n",
       "      <td>False</td>\n",
       "      <td>False</td>\n",
       "    </tr>\n",
       "    <tr>\n",
       "      <th>2</th>\n",
       "      <td>False</td>\n",
       "      <td>False</td>\n",
       "      <td>False</td>\n",
       "      <td>False</td>\n",
       "      <td>False</td>\n",
       "      <td>True</td>\n",
       "      <td>True</td>\n",
       "      <td>False</td>\n",
       "    </tr>\n",
       "    <tr>\n",
       "      <th>3</th>\n",
       "      <td>False</td>\n",
       "      <td>False</td>\n",
       "      <td>True</td>\n",
       "      <td>True</td>\n",
       "      <td>False</td>\n",
       "      <td>False</td>\n",
       "      <td>False</td>\n",
       "      <td>False</td>\n",
       "    </tr>\n",
       "    <tr>\n",
       "      <th>4</th>\n",
       "      <td>False</td>\n",
       "      <td>True</td>\n",
       "      <td>False</td>\n",
       "      <td>False</td>\n",
       "      <td>True</td>\n",
       "      <td>False</td>\n",
       "      <td>False</td>\n",
       "      <td>False</td>\n",
       "    </tr>\n",
       "  </tbody>\n",
       "</table>\n",
       "</div>"
      ],
      "text/plain": [
       "   Beef burger  Cheese burger  Chicken burger  Coffe   Coke  \\\n",
       "0         True          False           False  False  False   \n",
       "1        False           True           False  False   True   \n",
       "2        False          False           False  False  False   \n",
       "3        False          False            True   True  False   \n",
       "4        False           True           False  False   True   \n",
       "\n",
       "   Double cheese burger  Mineral water   None  \n",
       "0                 False           True  False  \n",
       "1                 False          False  False  \n",
       "2                  True           True  False  \n",
       "3                 False          False  False  \n",
       "4                 False          False  False  "
      ]
     },
     "execution_count": 14,
     "metadata": {},
     "output_type": "execute_result"
    }
   ],
   "source": [
    "#Using Transaction Encoder\n",
    "te = TransactionEncoder()\n",
    "data = te.fit_transform(df_list)\n",
    "data = pd.DataFrame(data, columns=te.columns_)\n",
    "data.head()"
   ]
  },
  {
   "cell_type": "code",
   "execution_count": 15,
   "metadata": {},
   "outputs": [
    {
     "data": {
      "text/plain": [
       "(312, 8)"
      ]
     },
     "execution_count": 15,
     "metadata": {},
     "output_type": "execute_result"
    }
   ],
   "source": [
    "data.shape"
   ]
  },
  {
   "cell_type": "markdown",
   "metadata": {},
   "source": [
    "- Menggunakan algoritma apriori"
   ]
  },
  {
   "cell_type": "code",
   "execution_count": 16,
   "metadata": {},
   "outputs": [
    {
     "data": {
      "text/html": [
       "<div>\n",
       "<style scoped>\n",
       "    .dataframe tbody tr th:only-of-type {\n",
       "        vertical-align: middle;\n",
       "    }\n",
       "\n",
       "    .dataframe tbody tr th {\n",
       "        vertical-align: top;\n",
       "    }\n",
       "\n",
       "    .dataframe thead th {\n",
       "        text-align: right;\n",
       "    }\n",
       "</style>\n",
       "<table border=\"1\" class=\"dataframe\">\n",
       "  <thead>\n",
       "    <tr style=\"text-align: right;\">\n",
       "      <th></th>\n",
       "      <th>support</th>\n",
       "      <th>itemsets</th>\n",
       "    </tr>\n",
       "  </thead>\n",
       "  <tbody>\n",
       "    <tr>\n",
       "      <th>0</th>\n",
       "      <td>0.371795</td>\n",
       "      <td>(Beef burger)</td>\n",
       "    </tr>\n",
       "    <tr>\n",
       "      <th>6</th>\n",
       "      <td>0.349359</td>\n",
       "      <td>(Mineral water)</td>\n",
       "    </tr>\n",
       "    <tr>\n",
       "      <th>3</th>\n",
       "      <td>0.282051</td>\n",
       "      <td>(Coffe)</td>\n",
       "    </tr>\n",
       "    <tr>\n",
       "      <th>2</th>\n",
       "      <td>0.227564</td>\n",
       "      <td>(Chicken burger)</td>\n",
       "    </tr>\n",
       "    <tr>\n",
       "      <th>4</th>\n",
       "      <td>0.221154</td>\n",
       "      <td>(Coke)</td>\n",
       "    </tr>\n",
       "    <tr>\n",
       "      <th>5</th>\n",
       "      <td>0.221154</td>\n",
       "      <td>(Double cheese burger)</td>\n",
       "    </tr>\n",
       "    <tr>\n",
       "      <th>9</th>\n",
       "      <td>0.205128</td>\n",
       "      <td>(Beef burger, Mineral water)</td>\n",
       "    </tr>\n",
       "    <tr>\n",
       "      <th>1</th>\n",
       "      <td>0.179487</td>\n",
       "      <td>(Cheese burger)</td>\n",
       "    </tr>\n",
       "    <tr>\n",
       "      <th>10</th>\n",
       "      <td>0.179487</td>\n",
       "      <td>(Cheese burger, Coke)</td>\n",
       "    </tr>\n",
       "    <tr>\n",
       "      <th>7</th>\n",
       "      <td>0.147436</td>\n",
       "      <td>(None)</td>\n",
       "    </tr>\n",
       "    <tr>\n",
       "      <th>14</th>\n",
       "      <td>0.144231</td>\n",
       "      <td>(Double cheese burger, Mineral water)</td>\n",
       "    </tr>\n",
       "    <tr>\n",
       "      <th>11</th>\n",
       "      <td>0.115385</td>\n",
       "      <td>(Chicken burger, Coffe)</td>\n",
       "    </tr>\n",
       "    <tr>\n",
       "      <th>12</th>\n",
       "      <td>0.112179</td>\n",
       "      <td>(Chicken burger, None)</td>\n",
       "    </tr>\n",
       "    <tr>\n",
       "      <th>8</th>\n",
       "      <td>0.089744</td>\n",
       "      <td>(Beef burger, Coffe)</td>\n",
       "    </tr>\n",
       "    <tr>\n",
       "      <th>13</th>\n",
       "      <td>0.076923</td>\n",
       "      <td>(Coffe, Double cheese burger)</td>\n",
       "    </tr>\n",
       "  </tbody>\n",
       "</table>\n",
       "</div>"
      ],
      "text/plain": [
       "     support                               itemsets\n",
       "0   0.371795                          (Beef burger)\n",
       "6   0.349359                        (Mineral water)\n",
       "3   0.282051                                (Coffe)\n",
       "2   0.227564                       (Chicken burger)\n",
       "4   0.221154                                 (Coke)\n",
       "5   0.221154                 (Double cheese burger)\n",
       "9   0.205128           (Beef burger, Mineral water)\n",
       "1   0.179487                        (Cheese burger)\n",
       "10  0.179487                  (Cheese burger, Coke)\n",
       "7   0.147436                                 (None)\n",
       "14  0.144231  (Double cheese burger, Mineral water)\n",
       "11  0.115385                (Chicken burger, Coffe)\n",
       "12  0.112179                 (Chicken burger, None)\n",
       "8   0.089744                   (Beef burger, Coffe)\n",
       "13  0.076923          (Coffe, Double cheese burger)"
      ]
     },
     "execution_count": 16,
     "metadata": {},
     "output_type": "execute_result"
    }
   ],
   "source": [
    "item = apriori(data, min_support=0.05, use_colnames=True)\n",
    "item.sort_values(by='support', ascending=False)"
   ]
  },
  {
   "cell_type": "markdown",
   "metadata": {},
   "source": [
    "- Dari hasil diatas dapat dilihat bahwa support atau item yang sering dibeli adalah Beef Burger untuk burger dan Mineral Water untuk Minuman (Single Item).\n",
    "- Untuk Double Item dapat dilihat suppoer tertinggi adalah dari pasangan Mineral Water dan Beef Burger"
   ]
  },
  {
   "cell_type": "markdown",
   "metadata": {},
   "source": [
    "- Melihat asosiasi dari data"
   ]
  },
  {
   "cell_type": "code",
   "execution_count": 17,
   "metadata": {
    "scrolled": false
   },
   "outputs": [
    {
     "data": {
      "text/html": [
       "<div>\n",
       "<style scoped>\n",
       "    .dataframe tbody tr th:only-of-type {\n",
       "        vertical-align: middle;\n",
       "    }\n",
       "\n",
       "    .dataframe tbody tr th {\n",
       "        vertical-align: top;\n",
       "    }\n",
       "\n",
       "    .dataframe thead th {\n",
       "        text-align: right;\n",
       "    }\n",
       "</style>\n",
       "<table border=\"1\" class=\"dataframe\">\n",
       "  <thead>\n",
       "    <tr style=\"text-align: right;\">\n",
       "      <th></th>\n",
       "      <th>antecedents</th>\n",
       "      <th>consequents</th>\n",
       "      <th>antecedent support</th>\n",
       "      <th>consequent support</th>\n",
       "      <th>support</th>\n",
       "      <th>confidence</th>\n",
       "      <th>lift</th>\n",
       "      <th>leverage</th>\n",
       "      <th>conviction</th>\n",
       "    </tr>\n",
       "  </thead>\n",
       "  <tbody>\n",
       "    <tr>\n",
       "      <th>4</th>\n",
       "      <td>(Cheese burger)</td>\n",
       "      <td>(Coke)</td>\n",
       "      <td>0.179487</td>\n",
       "      <td>0.221154</td>\n",
       "      <td>0.179487</td>\n",
       "      <td>1.000000</td>\n",
       "      <td>4.521739</td>\n",
       "      <td>0.139793</td>\n",
       "      <td>inf</td>\n",
       "    </tr>\n",
       "    <tr>\n",
       "      <th>5</th>\n",
       "      <td>(Coke)</td>\n",
       "      <td>(Cheese burger)</td>\n",
       "      <td>0.221154</td>\n",
       "      <td>0.179487</td>\n",
       "      <td>0.179487</td>\n",
       "      <td>0.811594</td>\n",
       "      <td>4.521739</td>\n",
       "      <td>0.139793</td>\n",
       "      <td>4.355030</td>\n",
       "    </tr>\n",
       "    <tr>\n",
       "      <th>9</th>\n",
       "      <td>(None)</td>\n",
       "      <td>(Chicken burger)</td>\n",
       "      <td>0.147436</td>\n",
       "      <td>0.227564</td>\n",
       "      <td>0.112179</td>\n",
       "      <td>0.760870</td>\n",
       "      <td>3.343539</td>\n",
       "      <td>0.078628</td>\n",
       "      <td>3.230186</td>\n",
       "    </tr>\n",
       "    <tr>\n",
       "      <th>8</th>\n",
       "      <td>(Chicken burger)</td>\n",
       "      <td>(None)</td>\n",
       "      <td>0.227564</td>\n",
       "      <td>0.147436</td>\n",
       "      <td>0.112179</td>\n",
       "      <td>0.492958</td>\n",
       "      <td>3.343539</td>\n",
       "      <td>0.078628</td>\n",
       "      <td>1.681446</td>\n",
       "    </tr>\n",
       "    <tr>\n",
       "      <th>12</th>\n",
       "      <td>(Double cheese burger)</td>\n",
       "      <td>(Mineral water)</td>\n",
       "      <td>0.221154</td>\n",
       "      <td>0.349359</td>\n",
       "      <td>0.144231</td>\n",
       "      <td>0.652174</td>\n",
       "      <td>1.866773</td>\n",
       "      <td>0.066969</td>\n",
       "      <td>1.870593</td>\n",
       "    </tr>\n",
       "    <tr>\n",
       "      <th>13</th>\n",
       "      <td>(Mineral water)</td>\n",
       "      <td>(Double cheese burger)</td>\n",
       "      <td>0.349359</td>\n",
       "      <td>0.221154</td>\n",
       "      <td>0.144231</td>\n",
       "      <td>0.412844</td>\n",
       "      <td>1.866773</td>\n",
       "      <td>0.066969</td>\n",
       "      <td>1.326472</td>\n",
       "    </tr>\n",
       "    <tr>\n",
       "      <th>7</th>\n",
       "      <td>(Coffe)</td>\n",
       "      <td>(Chicken burger)</td>\n",
       "      <td>0.282051</td>\n",
       "      <td>0.227564</td>\n",
       "      <td>0.115385</td>\n",
       "      <td>0.409091</td>\n",
       "      <td>1.797695</td>\n",
       "      <td>0.051200</td>\n",
       "      <td>1.307199</td>\n",
       "    </tr>\n",
       "    <tr>\n",
       "      <th>6</th>\n",
       "      <td>(Chicken burger)</td>\n",
       "      <td>(Coffe)</td>\n",
       "      <td>0.227564</td>\n",
       "      <td>0.282051</td>\n",
       "      <td>0.115385</td>\n",
       "      <td>0.507042</td>\n",
       "      <td>1.797695</td>\n",
       "      <td>0.051200</td>\n",
       "      <td>1.456410</td>\n",
       "    </tr>\n",
       "    <tr>\n",
       "      <th>2</th>\n",
       "      <td>(Beef burger)</td>\n",
       "      <td>(Mineral water)</td>\n",
       "      <td>0.371795</td>\n",
       "      <td>0.349359</td>\n",
       "      <td>0.205128</td>\n",
       "      <td>0.551724</td>\n",
       "      <td>1.579247</td>\n",
       "      <td>0.075238</td>\n",
       "      <td>1.451430</td>\n",
       "    </tr>\n",
       "    <tr>\n",
       "      <th>3</th>\n",
       "      <td>(Mineral water)</td>\n",
       "      <td>(Beef burger)</td>\n",
       "      <td>0.349359</td>\n",
       "      <td>0.371795</td>\n",
       "      <td>0.205128</td>\n",
       "      <td>0.587156</td>\n",
       "      <td>1.579247</td>\n",
       "      <td>0.075238</td>\n",
       "      <td>1.521652</td>\n",
       "    </tr>\n",
       "    <tr>\n",
       "      <th>10</th>\n",
       "      <td>(Coffe)</td>\n",
       "      <td>(Double cheese burger)</td>\n",
       "      <td>0.282051</td>\n",
       "      <td>0.221154</td>\n",
       "      <td>0.076923</td>\n",
       "      <td>0.272727</td>\n",
       "      <td>1.233202</td>\n",
       "      <td>0.014546</td>\n",
       "      <td>1.070913</td>\n",
       "    </tr>\n",
       "    <tr>\n",
       "      <th>11</th>\n",
       "      <td>(Double cheese burger)</td>\n",
       "      <td>(Coffe)</td>\n",
       "      <td>0.221154</td>\n",
       "      <td>0.282051</td>\n",
       "      <td>0.076923</td>\n",
       "      <td>0.347826</td>\n",
       "      <td>1.233202</td>\n",
       "      <td>0.014546</td>\n",
       "      <td>1.100855</td>\n",
       "    </tr>\n",
       "    <tr>\n",
       "      <th>0</th>\n",
       "      <td>(Beef burger)</td>\n",
       "      <td>(Coffe)</td>\n",
       "      <td>0.371795</td>\n",
       "      <td>0.282051</td>\n",
       "      <td>0.089744</td>\n",
       "      <td>0.241379</td>\n",
       "      <td>0.855799</td>\n",
       "      <td>-0.015122</td>\n",
       "      <td>0.946387</td>\n",
       "    </tr>\n",
       "    <tr>\n",
       "      <th>1</th>\n",
       "      <td>(Coffe)</td>\n",
       "      <td>(Beef burger)</td>\n",
       "      <td>0.282051</td>\n",
       "      <td>0.371795</td>\n",
       "      <td>0.089744</td>\n",
       "      <td>0.318182</td>\n",
       "      <td>0.855799</td>\n",
       "      <td>-0.015122</td>\n",
       "      <td>0.921368</td>\n",
       "    </tr>\n",
       "  </tbody>\n",
       "</table>\n",
       "</div>"
      ],
      "text/plain": [
       "               antecedents             consequents  antecedent support  \\\n",
       "4          (Cheese burger)                  (Coke)            0.179487   \n",
       "5                   (Coke)         (Cheese burger)            0.221154   \n",
       "9                   (None)        (Chicken burger)            0.147436   \n",
       "8         (Chicken burger)                  (None)            0.227564   \n",
       "12  (Double cheese burger)         (Mineral water)            0.221154   \n",
       "13         (Mineral water)  (Double cheese burger)            0.349359   \n",
       "7                  (Coffe)        (Chicken burger)            0.282051   \n",
       "6         (Chicken burger)                 (Coffe)            0.227564   \n",
       "2            (Beef burger)         (Mineral water)            0.371795   \n",
       "3          (Mineral water)           (Beef burger)            0.349359   \n",
       "10                 (Coffe)  (Double cheese burger)            0.282051   \n",
       "11  (Double cheese burger)                 (Coffe)            0.221154   \n",
       "0            (Beef burger)                 (Coffe)            0.371795   \n",
       "1                  (Coffe)           (Beef burger)            0.282051   \n",
       "\n",
       "    consequent support   support  confidence      lift  leverage  conviction  \n",
       "4             0.221154  0.179487    1.000000  4.521739  0.139793         inf  \n",
       "5             0.179487  0.179487    0.811594  4.521739  0.139793    4.355030  \n",
       "9             0.227564  0.112179    0.760870  3.343539  0.078628    3.230186  \n",
       "8             0.147436  0.112179    0.492958  3.343539  0.078628    1.681446  \n",
       "12            0.349359  0.144231    0.652174  1.866773  0.066969    1.870593  \n",
       "13            0.221154  0.144231    0.412844  1.866773  0.066969    1.326472  \n",
       "7             0.227564  0.115385    0.409091  1.797695  0.051200    1.307199  \n",
       "6             0.282051  0.115385    0.507042  1.797695  0.051200    1.456410  \n",
       "2             0.349359  0.205128    0.551724  1.579247  0.075238    1.451430  \n",
       "3             0.371795  0.205128    0.587156  1.579247  0.075238    1.521652  \n",
       "10            0.221154  0.076923    0.272727  1.233202  0.014546    1.070913  \n",
       "11            0.282051  0.076923    0.347826  1.233202  0.014546    1.100855  \n",
       "0             0.282051  0.089744    0.241379  0.855799 -0.015122    0.946387  \n",
       "1             0.371795  0.089744    0.318182  0.855799 -0.015122    0.921368  "
      ]
     },
     "execution_count": 17,
     "metadata": {},
     "output_type": "execute_result"
    }
   ],
   "source": [
    "assosiasi = association_rules(item, metric='lift')\n",
    "assosiasi.sort_values(by='lift', ascending=False)"
   ]
  },
  {
   "cell_type": "markdown",
   "metadata": {},
   "source": [
    "- Dari hasil diatas, data saya urutkan berdasarkan liftnya\n",
    "- Untuk contoh interpretasi data yang pertama adalah pasangan dari Cheese burger dan Coke\n",
    "    - Nilai confidencenya adalah 1 yang berarti bahwa setiap ada transaksi dari Cheese burger maka akan berisi Coke dengan persentasi 100%.\n",
    "    - Nilai Lift adalah 4.52 yang berarti bahwa Coke 4.52 kali lipat akan dibeli oleh customer yang membeli Cheese Burger dibandingkan dengan <i>default likelihood sale of ‘Coke.’</i>"
   ]
  },
  {
   "cell_type": "markdown",
   "metadata": {},
   "source": [
    "## Rekomendasi Slamet\n",
    "- Slamet merekomendasikan cabang BurgerStar untuk memberikan paket paket menu:\n",
    "    - Paket menu 1 adalah paket Cheese Burger dan Coke karena memberikan nilai lift yang sangat tinggi. Hal ini bertujuan agar mendongkrak penjualan dari cheese burger dan coke.\n",
    "    - Paket menu 2 adalah paket Beef Burger dan Coke karena beef burger supportnya sangat tinggi untuk burger, dengan paket ini bertujuan agar penjualan coke bisa naik karena coke memiliki nilai support yang paling rendah untuk minuman.\n",
    "    - Paket menu 3 adalah paket Cheese Burger dan Mineral Water karena Cheese burger mendapat nilai support paling rendah di tipe burger dan mineral water memiliki nilai support paling tinggi dalam tipe minuman. sehingga dengan paket ini diharapkan bisa meningkatkan penjualan Cheese Burger.\n",
    "    - Paket menu 4 adalah paket combo Beef Burger dan Mineral Water yang kedua ini memiliki nilai support yang paling tinggi di setiap kategori."
   ]
  },
  {
   "cell_type": "code",
   "execution_count": null,
   "metadata": {},
   "outputs": [],
   "source": []
  }
 ],
 "metadata": {
  "kernelspec": {
   "display_name": "Python 3",
   "language": "python",
   "name": "python3"
  },
  "language_info": {
   "codemirror_mode": {
    "name": "ipython",
    "version": 3
   },
   "file_extension": ".py",
   "mimetype": "text/x-python",
   "name": "python",
   "nbconvert_exporter": "python",
   "pygments_lexer": "ipython3",
   "version": "3.7.3"
  }
 },
 "nbformat": 4,
 "nbformat_minor": 2
}
