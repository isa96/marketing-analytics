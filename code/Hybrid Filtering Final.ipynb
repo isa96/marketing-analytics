{
 "cells": [
  {
   "cell_type": "markdown",
   "metadata": {
    "colab_type": "text",
    "id": "r09aOFyyK3_w"
   },
   "source": [
    "# Hybrid Based Filtering\n",
    "- Hybrid Based Filtering (HBF) adalah salah satu metode sistem rekomendasi yang mengkombinasikan antara Collaborative Filtering (CF) dan Content Based Filtering (CBF).\n",
    "- Urutan pengerjaan saya adalah pertama saya menggunakan CBF untuk mendapatkan film rekomendasi awal lalu hasil dari film tersebut menjadi input untuk algoritma CF."
   ]
  },
  {
   "cell_type": "markdown",
   "metadata": {},
   "source": [
    "## Case Story\n",
    "- Rangga, seorang data scientist di netclick.com mendapatkan tambahan tugas baru dari managernya yaitu bos Asep.\n",
    "- Ternyata tetangganya bos Asep yaitu Ucup kurang puas dengan rekomendasi film dari Rangga sebelumnya, lalu asep menyuruh Rangga untuk mencoba menggunakan algoritma Hybrid Filtering untuk membuat rekomendasi ulang untuk Ucup\n",
    "- Ucup User ID adalah 352"
   ]
  },
  {
   "cell_type": "markdown",
   "metadata": {},
   "source": [
    "# Content Based Filtering"
   ]
  },
  {
   "cell_type": "markdown",
   "metadata": {
    "colab_type": "text",
    "id": "OYULecvRK3_y"
   },
   "source": [
    "## Load Library"
   ]
  },
  {
   "cell_type": "code",
   "execution_count": 1,
   "metadata": {
    "colab": {},
    "colab_type": "code",
    "id": "2P_JZfyRK3_0"
   },
   "outputs": [],
   "source": [
    "import pandas as pd\n",
    "from math import sqrt\n",
    "import numpy as np\n",
    "import matplotlib.pyplot as plt"
   ]
  },
  {
   "cell_type": "markdown",
   "metadata": {
    "colab_type": "text",
    "id": "hGC2FDwFK3_7"
   },
   "source": [
    "## Load Datasets\n",
    "- Dataset yang digunakan berasal dari MovieLens dengan 2 datasets yang akan kita gunakan yaitu data ratings dan movies."
   ]
  },
  {
   "cell_type": "code",
   "execution_count": 3,
   "metadata": {
    "colab": {},
    "colab_type": "code",
    "id": "NN3nY8CmK3_9"
   },
   "outputs": [],
   "source": [
    "movies = pd.read_csv('C:\\\\Users\\\\msi\\\\Documents\\\\Jupyter\\\\18. Unsupervised 2\\\\proyek\\\\dataset\\\\movies.csv')\n",
    "ratings = pd.read_csv('C:\\\\Users\\\\msi\\\\Documents\\\\Jupyter\\\\18. Unsupervised 2\\\\proyek\\\\dataset\\\\ratings.csv')"
   ]
  },
  {
   "cell_type": "markdown",
   "metadata": {},
   "source": [
    "## Data Cleaning"
   ]
  },
  {
   "cell_type": "code",
   "execution_count": 4,
   "metadata": {},
   "outputs": [],
   "source": [
    "#Menghapus tahun di title \n",
    "movies['title'] = movies['title'].str.replace('(\\(\\d\\d\\d\\d\\))', '')\n",
    "\n",
    "#Menghapus whitespace\n",
    "movies['title'] = movies['title'].apply(lambda x: x.strip())"
   ]
  },
  {
   "cell_type": "code",
   "execution_count": 5,
   "metadata": {},
   "outputs": [],
   "source": [
    "#Split genres karena akan digunakan di algoritma CBF\n",
    "movies['genres'] = movies['genres'].str.split('|')"
   ]
  },
  {
   "cell_type": "code",
   "execution_count": 6,
   "metadata": {},
   "outputs": [],
   "source": [
    "#Drop kolom timestamp\n",
    "ratings = ratings.drop(columns=['timestamp'])"
   ]
  },
  {
   "cell_type": "code",
   "execution_count": 7,
   "metadata": {},
   "outputs": [],
   "source": [
    "def rekomendasi_film_content(user_id):\n",
    "    #Melakukan One Hot Encoding untuk dataframe baru\n",
    "    #Kita copy dulu\n",
    "    new_movies = movies.copy()\n",
    "    #Kita looping untuk setiap row di df, lalu looping lagi di genres list dan taroh list tsb ke dalam kolom\n",
    "    for index, row in movies.iterrows():\n",
    "        for genre in row['genres']:\n",
    "            new_movies.at[index, genre] = 1    \n",
    "    #Yang tidak termasuk genrenya ke dalam list maka kita diisi dengan 0\n",
    "    new_movies = new_movies.fillna(0)\n",
    "    \n",
    "    #Kita membuat movie input dari user\n",
    "    rating_grouping = ratings.groupby('userId')\n",
    "    user_id_film = rating_grouping.get_group(user_id).head(5)\n",
    "    \n",
    "    #Kemudian melakukan One Hot Encoding untuk input movie user\n",
    "    user_movie_encoding = new_movies[new_movies['movieId'].isin(user_id_film['movieId'].tolist())]\n",
    "    #Reset index\n",
    "    user_movie_encoding = user_movie_encoding.reset_index(drop=True)\n",
    "    #Drop unused columns\n",
    "    user_movie_encoding = user_movie_encoding.drop(columns=['movieId', 'title', 'genres'])\n",
    "    \n",
    "    #Mencari tahu ucup profile berdasarkan genrenya\n",
    "    #Menggunakan dot product untuk mendapatkan bobot dari setiap genre\n",
    "    user_profile = user_movie_encoding.transpose().dot(user_id_film['rating'].reset_index(drop=True))\n",
    "    \n",
    "    #Melakukan Rekomendasi Film\n",
    "    new_movies.set_index(new_movies['movieId'], inplace=True)\n",
    "    new_movies = new_movies.drop('movieId', 1).drop('title', 1).drop('genres', 1)\n",
    "    #Multiply the genres by the weights and then take the weighted average\n",
    "    rekomendasi_film = ((new_movies*user_profile).sum(axis=1))/(user_profile.sum())\n",
    "    #Urutkan berdasarkan nilai weughted average tertinggti\n",
    "    rekomendasi_film = rekomendasi_film.sort_values(ascending=False)\n",
    "    #Rekomendasi film final untuk User\n",
    "    rekomendasi_film_final = movies.loc[movies['movieId'].isin(rekomendasi_film.head(10).keys())]\n",
    "    \n",
    "    return rekomendasi_film_final"
   ]
  },
  {
   "cell_type": "code",
   "execution_count": 8,
   "metadata": {},
   "outputs": [
    {
     "name": "stdout",
     "output_type": "stream",
     "text": [
      "Masukan User Id: 352\n"
     ]
    },
    {
     "data": {
      "text/html": [
       "<div>\n",
       "<style scoped>\n",
       "    .dataframe tbody tr th:only-of-type {\n",
       "        vertical-align: middle;\n",
       "    }\n",
       "\n",
       "    .dataframe tbody tr th {\n",
       "        vertical-align: top;\n",
       "    }\n",
       "\n",
       "    .dataframe thead th {\n",
       "        text-align: right;\n",
       "    }\n",
       "</style>\n",
       "<table border=\"1\" class=\"dataframe\">\n",
       "  <thead>\n",
       "    <tr style=\"text-align: right;\">\n",
       "      <th></th>\n",
       "      <th>movieId</th>\n",
       "      <th>title</th>\n",
       "      <th>genres</th>\n",
       "    </tr>\n",
       "  </thead>\n",
       "  <tbody>\n",
       "    <tr>\n",
       "      <th>167</th>\n",
       "      <td>198</td>\n",
       "      <td>Strange Days</td>\n",
       "      <td>[Action, Crime, Drama, Mystery, Sci-Fi, Thriller]</td>\n",
       "    </tr>\n",
       "    <tr>\n",
       "      <th>1330</th>\n",
       "      <td>1799</td>\n",
       "      <td>Suicide Kings</td>\n",
       "      <td>[Comedy, Crime, Drama, Mystery, Thriller]</td>\n",
       "    </tr>\n",
       "    <tr>\n",
       "      <th>4940</th>\n",
       "      <td>7445</td>\n",
       "      <td>Man on Fire</td>\n",
       "      <td>[Action, Crime, Drama, Mystery, Thriller]</td>\n",
       "    </tr>\n",
       "    <tr>\n",
       "      <th>5327</th>\n",
       "      <td>8860</td>\n",
       "      <td>Cellular</td>\n",
       "      <td>[Action, Crime, Drama, Mystery, Thriller]</td>\n",
       "    </tr>\n",
       "    <tr>\n",
       "      <th>5556</th>\n",
       "      <td>26701</td>\n",
       "      <td>Patlabor: The Movie (Kidô keisatsu patorebâ: T...</td>\n",
       "      <td>[Action, Animation, Crime, Drama, Film-Noir, M...</td>\n",
       "    </tr>\n",
       "    <tr>\n",
       "      <th>5672</th>\n",
       "      <td>27674</td>\n",
       "      <td>11:14</td>\n",
       "      <td>[Comedy, Crime, Drama, Mystery, Thriller]</td>\n",
       "    </tr>\n",
       "    <tr>\n",
       "      <th>5808</th>\n",
       "      <td>31921</td>\n",
       "      <td>Seven-Per-Cent Solution, The</td>\n",
       "      <td>[Adventure, Comedy, Crime, Drama, Mystery, Thr...</td>\n",
       "    </tr>\n",
       "    <tr>\n",
       "      <th>7372</th>\n",
       "      <td>79132</td>\n",
       "      <td>Inception</td>\n",
       "      <td>[Action, Crime, Drama, Mystery, Sci-Fi, Thrill...</td>\n",
       "    </tr>\n",
       "    <tr>\n",
       "      <th>7441</th>\n",
       "      <td>81132</td>\n",
       "      <td>Rubber</td>\n",
       "      <td>[Action, Adventure, Comedy, Crime, Drama, Film...</td>\n",
       "    </tr>\n",
       "    <tr>\n",
       "      <th>9411</th>\n",
       "      <td>165347</td>\n",
       "      <td>Jack Reacher: Never Go Back</td>\n",
       "      <td>[Action, Crime, Drama, Mystery, Thriller]</td>\n",
       "    </tr>\n",
       "  </tbody>\n",
       "</table>\n",
       "</div>"
      ],
      "text/plain": [
       "      movieId                                              title  \\\n",
       "167       198                                       Strange Days   \n",
       "1330     1799                                      Suicide Kings   \n",
       "4940     7445                                        Man on Fire   \n",
       "5327     8860                                           Cellular   \n",
       "5556    26701  Patlabor: The Movie (Kidô keisatsu patorebâ: T...   \n",
       "5672    27674                                              11:14   \n",
       "5808    31921                       Seven-Per-Cent Solution, The   \n",
       "7372    79132                                          Inception   \n",
       "7441    81132                                             Rubber   \n",
       "9411   165347                        Jack Reacher: Never Go Back   \n",
       "\n",
       "                                                 genres  \n",
       "167   [Action, Crime, Drama, Mystery, Sci-Fi, Thriller]  \n",
       "1330          [Comedy, Crime, Drama, Mystery, Thriller]  \n",
       "4940          [Action, Crime, Drama, Mystery, Thriller]  \n",
       "5327          [Action, Crime, Drama, Mystery, Thriller]  \n",
       "5556  [Action, Animation, Crime, Drama, Film-Noir, M...  \n",
       "5672          [Comedy, Crime, Drama, Mystery, Thriller]  \n",
       "5808  [Adventure, Comedy, Crime, Drama, Mystery, Thr...  \n",
       "7372  [Action, Crime, Drama, Mystery, Sci-Fi, Thrill...  \n",
       "7441  [Action, Adventure, Comedy, Crime, Drama, Film...  \n",
       "9411          [Action, Crime, Drama, Mystery, Thriller]  "
      ]
     },
     "execution_count": 8,
     "metadata": {},
     "output_type": "execute_result"
    }
   ],
   "source": [
    "user = int(input('Masukan User Id: '))\n",
    "rekomendasi_film_content(user)"
   ]
  },
  {
   "cell_type": "code",
   "execution_count": 9,
   "metadata": {},
   "outputs": [],
   "source": [
    "input_ke_CF = rekomendasi_film_content(user).head(5)"
   ]
  },
  {
   "cell_type": "markdown",
   "metadata": {},
   "source": [
    "***"
   ]
  },
  {
   "cell_type": "markdown",
   "metadata": {},
   "source": [
    "***"
   ]
  },
  {
   "cell_type": "markdown",
   "metadata": {},
   "source": [
    "# Collaborative Filtering"
   ]
  },
  {
   "cell_type": "code",
   "execution_count": 11,
   "metadata": {},
   "outputs": [],
   "source": [
    "movies = pd.read_csv('C:\\\\Users\\\\msi\\\\Documents\\\\Jupyter\\\\18. Unsupervised 2\\\\proyek\\\\dataset\\\\movies.csv', encoding='latin1')\n",
    "ratings = pd.read_csv('C:\\\\Users\\\\msi\\\\Documents\\\\Jupyter\\\\18. Unsupervised 2\\\\proyek\\\\dataset\\\\ratings.csv')"
   ]
  },
  {
   "cell_type": "markdown",
   "metadata": {},
   "source": [
    "## Data Cleaning"
   ]
  },
  {
   "cell_type": "code",
   "execution_count": 12,
   "metadata": {},
   "outputs": [],
   "source": [
    "#Menghapus kolom yang tidak digunakan di df movies\n",
    "movies.drop(columns=['genres'], inplace=True)"
   ]
  },
  {
   "cell_type": "code",
   "execution_count": 13,
   "metadata": {},
   "outputs": [],
   "source": [
    "#Menghapus tahun di title\n",
    "movies['title'] = movies['title'].str.replace('(\\(\\d\\d\\d\\d\\))', '')\n",
    "\n",
    "#Menghapus whitesoace\n",
    "movies['title'] = movies['title'].apply(lambda x: x.strip())"
   ]
  },
  {
   "cell_type": "code",
   "execution_count": 14,
   "metadata": {},
   "outputs": [],
   "source": [
    "#Menghapus kolom timestamp di df ratings\n",
    "ratings.drop(columns=['timestamp'], inplace=True)"
   ]
  },
  {
   "cell_type": "code",
   "execution_count": 15,
   "metadata": {},
   "outputs": [],
   "source": [
    "def rekomendasi_film(list_film):\n",
    "    #Indexing dan Memberikan rating pada list_film\n",
    "    list_film.reset_index(drop=True, inplace=True)\n",
    "    #Rating input\n",
    "    rating = ratings[ratings['movieId'].isin(input_ke_CF['movieId'].tolist())].groupby('movieId').rating.mean().reset_index(drop=True)\n",
    "    list_film['rating'] = rating\n",
    "    \n",
    "    #Mencari user yang sudah melihat input movie\n",
    "    list_movie = list_film\n",
    "    set_user = ratings[ratings['movieId'].isin(list_movie['movieId'].tolist())]\n",
    "    set_user_grouping = set_user.groupby(['userId'])\n",
    "    \n",
    "    #Lalu saya akan melakukan sorting data user berdasarkan kesamaan film input dan film yang sudah ditonton user.\n",
    "    set_user_grouping = sorted(set_user_grouping,  key=lambda x: len(x[1]), reverse=True)\n",
    "    \n",
    "    #Membuat dictionary dimana user id adalah key dan value adalah koefisien pearson\n",
    "    pearson_dict = {}\n",
    "\n",
    "    #Looping di set_user_grouping\n",
    "    for name, group in set_user_grouping:\n",
    "    \n",
    "        #Kita sorting dulu agar tidak mixed up\n",
    "        group = group.sort_values(by='movieId')\n",
    "        list_movie = list_movie.sort_values(by='movieId')\n",
    "    \n",
    "        #cari jumlah dari data \n",
    "        n_value = len(group)\n",
    "\n",
    "        #cari review scores movies yang disesuaikan dengan film yang sudah ditonton cinta\n",
    "        df_sementara = list_movie[list_movie['movieId'].isin(group['movieId'].tolist())]\n",
    "\n",
    "        #Simpan rating menjadi bentuk list\n",
    "        rating_list = df_sementara['rating'].tolist()\n",
    "\n",
    "        #Masukan juga reviews satu satu dari user yang ada di set_user_grouping kedalam bentuk list\n",
    "        grup_list = group['rating'].tolist()\n",
    "\n",
    "        #Lalu lakukan perhitungan untuk pearson correlation antara 2 users, cinta dan current user = x and y\n",
    "        Sxx = sum([i**2 for i in rating_list]) - pow(sum(rating_list),2)/float(n_value)\n",
    "        Syy = sum([i**2 for i in grup_list]) - pow(sum(grup_list),2)/float(n_value)\n",
    "        Sxy = sum( i*j for i, j in zip(rating_list, grup_list)) - sum(rating_list)*sum(grup_list)/float(n_value)\n",
    "\n",
    "        #Checking apakah penyebutnya 0 atau tidak, kalo tidak maka bisa dibagi, kalo tidak maka 0.\n",
    "        if Sxx != 0 and Syy != 0:\n",
    "            pearson_dict[name] = Sxy/sqrt(Sxx*Syy)\n",
    "        else:\n",
    "            pearson_dict[name] = 0\n",
    "            \n",
    "    #Organisasi pearson dictionary ke dalam dataframe\n",
    "    df_pearson = pd.DataFrame.from_dict(pearson_dict, orient='index')\n",
    "    df_pearson.columns = ['similarityIndex']\n",
    "    df_pearson['userId'] = df_pearson.index\n",
    "    df_pearson.index = range(len(df_pearson))\n",
    "    \n",
    "    #Kita cari top 50 aja yang similarity indexnya paling mendekati dengan input user\n",
    "    top_50=df_pearson.sort_values(by='similarityIndex', ascending=False)[0:50]\n",
    "    \n",
    "    #Tahap Rekomendasi Film\n",
    "    \n",
    "    #Pertama, merge dulu ratings dan top50\n",
    "    top_50_new = top_50.merge(ratings, left_on='userId', right_on='userId', how='inner')\n",
    "    \n",
    "    #Kedua, Kalikan similarity index dan rating\n",
    "    top_50_new['bobot_rating'] = top_50_new['similarityIndex']*top_50_new['rating']\n",
    "    \n",
    "    #Ketiga, groupby berdasarkan movieID dan hanya mengambil kolom similarity index dan bobot_rating\n",
    "    bobot_df = top_50_new.groupby('movieId').sum()[['similarityIndex','bobot_rating']]\n",
    "    bobot_df.columns = ['similarity_index_total','bobot_rating_total']\n",
    "    \n",
    "    #Keempat, kita bagi bobot rating total dengan similarity index total\n",
    "    bobot_df['final_recommendation_score'] = bobot_df['bobot_rating_total']/bobot_df['similarity_index_total']\n",
    "    bobot_df['movieId'] = bobot_df.index\n",
    "    \n",
    "    #Kelima, kita sorting dari nilai recommendation score yang paling tinggi\n",
    "    final_rekomenadasi_film = bobot_df.sort_values(by=['final_recommendation_score'], ascending=False)\n",
    "    final_rekomenadasi_film.drop(columns=['similarity_index_total', 'bobot_rating_total'], inplace=True)\n",
    "    \n",
    "    final_movie_rekomendasi = movies.loc[movies['movieId'].isin(final_rekomenadasi_film.head(10)['movieId'].tolist())]\n",
    "    return final_movie_rekomendasi"
   ]
  },
  {
   "cell_type": "code",
   "execution_count": 16,
   "metadata": {},
   "outputs": [
    {
     "data": {
      "text/html": [
       "<div>\n",
       "<style scoped>\n",
       "    .dataframe tbody tr th:only-of-type {\n",
       "        vertical-align: middle;\n",
       "    }\n",
       "\n",
       "    .dataframe tbody tr th {\n",
       "        vertical-align: top;\n",
       "    }\n",
       "\n",
       "    .dataframe thead th {\n",
       "        text-align: right;\n",
       "    }\n",
       "</style>\n",
       "<table border=\"1\" class=\"dataframe\">\n",
       "  <thead>\n",
       "    <tr style=\"text-align: right;\">\n",
       "      <th></th>\n",
       "      <th>movieId</th>\n",
       "      <th>title</th>\n",
       "    </tr>\n",
       "  </thead>\n",
       "  <tbody>\n",
       "    <tr>\n",
       "      <th>553</th>\n",
       "      <td>663</td>\n",
       "      <td>Kids in the Hall: Brain Candy</td>\n",
       "    </tr>\n",
       "    <tr>\n",
       "      <th>4015</th>\n",
       "      <td>5673</td>\n",
       "      <td>Punch-Drunk Love</td>\n",
       "    </tr>\n",
       "    <tr>\n",
       "      <th>4054</th>\n",
       "      <td>5772</td>\n",
       "      <td>My Dinner with AndrÃ©</td>\n",
       "    </tr>\n",
       "    <tr>\n",
       "      <th>4083</th>\n",
       "      <td>5833</td>\n",
       "      <td>Dog Soldiers</td>\n",
       "    </tr>\n",
       "    <tr>\n",
       "      <th>4119</th>\n",
       "      <td>5909</td>\n",
       "      <td>Visitor Q (Bizita Q)</td>\n",
       "    </tr>\n",
       "    <tr>\n",
       "      <th>7302</th>\n",
       "      <td>76093</td>\n",
       "      <td>How to Train Your Dragon</td>\n",
       "    </tr>\n",
       "    <tr>\n",
       "      <th>7465</th>\n",
       "      <td>81834</td>\n",
       "      <td>Harry Potter and the Deathly Hallows: Part 1</td>\n",
       "    </tr>\n",
       "    <tr>\n",
       "      <th>7579</th>\n",
       "      <td>86142</td>\n",
       "      <td>13 Assassins (JÃ»san-nin no shikaku)</td>\n",
       "    </tr>\n",
       "    <tr>\n",
       "      <th>7611</th>\n",
       "      <td>86898</td>\n",
       "      <td>Tree of Life, The</td>\n",
       "    </tr>\n",
       "    <tr>\n",
       "      <th>7645</th>\n",
       "      <td>88129</td>\n",
       "      <td>Drive</td>\n",
       "    </tr>\n",
       "  </tbody>\n",
       "</table>\n",
       "</div>"
      ],
      "text/plain": [
       "      movieId                                         title\n",
       "553       663                 Kids in the Hall: Brain Candy\n",
       "4015     5673                              Punch-Drunk Love\n",
       "4054     5772                         My Dinner with AndrÃ©\n",
       "4083     5833                                  Dog Soldiers\n",
       "4119     5909                          Visitor Q (Bizita Q)\n",
       "7302    76093                      How to Train Your Dragon\n",
       "7465    81834  Harry Potter and the Deathly Hallows: Part 1\n",
       "7579    86142          13 Assassins (JÃ»san-nin no shikaku)\n",
       "7611    86898                             Tree of Life, The\n",
       "7645    88129                                         Drive"
      ]
     },
     "execution_count": 16,
     "metadata": {},
     "output_type": "execute_result"
    }
   ],
   "source": [
    "rekomendasi_film(input_ke_CF)"
   ]
  },
  {
   "cell_type": "markdown",
   "metadata": {},
   "source": [
    "- Jadi setelah melakukan analisis, Rangga melaporkan hasilnya kepada bosnya yaitu top 10 film yang wajib ditonton oleh Ucup:\n",
    "    1. Kids in the Hall: Brain Candy\n",
    "    2. Punch-Drunk Love\n",
    "    3. My Dinner with AndrÃ©\n",
    "    4. Dog Soldiers\n",
    "    5. Visitor Q (Bizita Q)\n",
    "    6. How to Train Your Dragon\n",
    "    7. Harry Potter and the Deathly Hallows: Part 1\n",
    "    8. 13 Assassins (JÃ»san-nin no shikaku)\n",
    "    9. Tree of Life, The\n",
    "    10. Drive"
   ]
  },
  {
   "cell_type": "code",
   "execution_count": null,
   "metadata": {},
   "outputs": [],
   "source": []
  }
 ],
 "metadata": {
  "colab": {
   "collapsed_sections": [],
   "name": "ML0101EN-RecSys-Content-Based-movies-py-v1 [ok].ipynb",
   "provenance": [],
   "toc_visible": true,
   "version": "0.3.2"
  },
  "kernelspec": {
   "display_name": "Python 3",
   "language": "python",
   "name": "python3"
  },
  "language_info": {
   "codemirror_mode": {
    "name": "ipython",
    "version": 3
   },
   "file_extension": ".py",
   "mimetype": "text/x-python",
   "name": "python",
   "nbconvert_exporter": "python",
   "pygments_lexer": "ipython3",
   "version": "3.7.3"
  }
 },
 "nbformat": 4,
 "nbformat_minor": 1
}
