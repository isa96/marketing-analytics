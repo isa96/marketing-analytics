{
 "cells": [
  {
   "cell_type": "markdown",
   "metadata": {},
   "source": [
    "# A/B Testing\n",
    "- Untuk menguji 2 things anggap saja desain sebuah website apakah desain 1 lebih baik dari desain 2 atau sebaliknya berdasarkan parameter yang sudah ditentukan sebelumnya."
   ]
  },
  {
   "cell_type": "markdown",
   "metadata": {},
   "source": [
    "## Story Case\n",
    "- Rangga! dia dapat tugas baru dari bosnya.\n",
    "- Kali ini dia disuruh melakukan A/B testing pada website yukbeli.com untuk mengetahui apakah desain website yang baru lebih baik dari desain sebelumnya.\n",
    "- yukbeli.com merupakan salah satu e-commerce terbaik dan terindah di Indonesia\n",
    "- Parameter yang rangga gunakan adalah:\n",
    "    1. Rata-rata waktu yang dihabiskan di website per session\n",
    "    2. Conversion rate, proporsi dari user yang melakukan transaksi\n",
    "- Rangga memutuskan untuk melakukan traffic split dengan proporsi desain A sebesar 0.4 dan desain B sebesar 0.6"
   ]
  },
  {
   "cell_type": "markdown",
   "metadata": {},
   "source": [
    "- Setelah 7 hari melakukan experimen, rangga mendapatkan data seperti di bawah ini dan dia ingin menguji desain mana yang lebih baik menggunakan A/B testing."
   ]
  },
  {
   "cell_type": "markdown",
   "metadata": {},
   "source": [
    "## Load Library"
   ]
  },
  {
   "cell_type": "code",
   "execution_count": 41,
   "metadata": {},
   "outputs": [],
   "source": [
    "import pandas as pd\n",
    "import numpy as np\n",
    "from scipy.stats import norm\n",
    "from scipy.stats import chi2"
   ]
  },
  {
   "cell_type": "markdown",
   "metadata": {},
   "source": [
    "## Load Datasets"
   ]
  },
  {
   "cell_type": "code",
   "execution_count": 42,
   "metadata": {},
   "outputs": [],
   "source": [
    "data_dict = {\n",
    "    'number_of_sessions':[6000, 4000],\n",
    "    'avg_time':[8, 11],\n",
    "    'stdev_time':[2,3],\n",
    "    'conversion_rate':[1.5, 2]\n",
    "}"
   ]
  },
  {
   "cell_type": "code",
   "execution_count": 43,
   "metadata": {},
   "outputs": [],
   "source": [
    "data = pd.DataFrame(data_dict, index=['A','B'])"
   ]
  },
  {
   "cell_type": "code",
   "execution_count": 44,
   "metadata": {},
   "outputs": [
    {
     "data": {
      "text/html": [
       "<div>\n",
       "<style scoped>\n",
       "    .dataframe tbody tr th:only-of-type {\n",
       "        vertical-align: middle;\n",
       "    }\n",
       "\n",
       "    .dataframe tbody tr th {\n",
       "        vertical-align: top;\n",
       "    }\n",
       "\n",
       "    .dataframe thead th {\n",
       "        text-align: right;\n",
       "    }\n",
       "</style>\n",
       "<table border=\"1\" class=\"dataframe\">\n",
       "  <thead>\n",
       "    <tr style=\"text-align: right;\">\n",
       "      <th></th>\n",
       "      <th>number_of_sessions</th>\n",
       "      <th>avg_time</th>\n",
       "      <th>stdev_time</th>\n",
       "      <th>conversion_rate</th>\n",
       "    </tr>\n",
       "  </thead>\n",
       "  <tbody>\n",
       "    <tr>\n",
       "      <th>A</th>\n",
       "      <td>6000</td>\n",
       "      <td>8</td>\n",
       "      <td>2</td>\n",
       "      <td>1.5</td>\n",
       "    </tr>\n",
       "    <tr>\n",
       "      <th>B</th>\n",
       "      <td>4000</td>\n",
       "      <td>11</td>\n",
       "      <td>3</td>\n",
       "      <td>2.0</td>\n",
       "    </tr>\n",
       "  </tbody>\n",
       "</table>\n",
       "</div>"
      ],
      "text/plain": [
       "   number_of_sessions  avg_time  stdev_time  conversion_rate\n",
       "A                6000         8           2              1.5\n",
       "B                4000        11           3              2.0"
      ]
     },
     "execution_count": 44,
     "metadata": {},
     "output_type": "execute_result"
    }
   ],
   "source": [
    "data"
   ]
  },
  {
   "cell_type": "markdown",
   "metadata": {},
   "source": [
    "## Dataset Information"
   ]
  },
  {
   "cell_type": "code",
   "execution_count": 45,
   "metadata": {},
   "outputs": [
    {
     "data": {
      "text/plain": [
       "(2, 4)"
      ]
     },
     "execution_count": 45,
     "metadata": {},
     "output_type": "execute_result"
    }
   ],
   "source": [
    "data.shape"
   ]
  },
  {
   "cell_type": "code",
   "execution_count": 46,
   "metadata": {},
   "outputs": [
    {
     "name": "stdout",
     "output_type": "stream",
     "text": [
      "<class 'pandas.core.frame.DataFrame'>\n",
      "Index: 2 entries, A to B\n",
      "Data columns (total 4 columns):\n",
      "number_of_sessions    2 non-null int64\n",
      "avg_time              2 non-null int64\n",
      "stdev_time            2 non-null int64\n",
      "conversion_rate       2 non-null float64\n",
      "dtypes: float64(1), int64(3)\n",
      "memory usage: 80.0+ bytes\n"
     ]
    }
   ],
   "source": [
    "data.info()"
   ]
  },
  {
   "cell_type": "markdown",
   "metadata": {},
   "source": [
    "## Melakukan Uji Statistik\n",
    "- Rangga akan melakukan 2 uji statistik yaitu:\n",
    "    1. Z-test untuk parameter avg_time apakah user menghabiskan waktu lebih lama di desain B.\n",
    "    2. Chi-Square untuk parameter conversion rate apakah desain B memberikan conversion lebih tinggi."
   ]
  },
  {
   "cell_type": "markdown",
   "metadata": {},
   "source": [
    "## Z-test\n",
    "- alpha / confidence level = 0.05"
   ]
  },
  {
   "cell_type": "markdown",
   "metadata": {},
   "source": [
    "### Hypothesis\n",
    "- H0 = 2 desain tersebut memiliki avg_time yang sama\n",
    "- H1 = desain B memiliki avg_time yang lebih tinggi dari desain A"
   ]
  },
  {
   "cell_type": "markdown",
   "metadata": {},
   "source": [
    "### Calculations"
   ]
  },
  {
   "cell_type": "code",
   "execution_count": 47,
   "metadata": {},
   "outputs": [
    {
     "name": "stdout",
     "output_type": "stream",
     "text": [
      "Nilai Z adalah 2.2749070654279993\n",
      "Nilai p-value adalah 0.011455752709549046\n"
     ]
    }
   ],
   "source": [
    "mean_B = 62\n",
    "mean_A = 60\n",
    "\n",
    "stdev_B = 45\n",
    "stdev_A = 40\n",
    "\n",
    "n_B = 4000\n",
    "n_A = 6000\n",
    "\n",
    "Z = (mean_B - mean_A)/np.sqrt(stdev_B**2/n_B + stdev_A**2/n_A)\n",
    "pvalue = norm.sf(Z)\n",
    "\n",
    "print(f'Nilai Z adalah {Z}')\n",
    "print(f'Nilai p-value adalah {pvalue}')"
   ]
  },
  {
   "cell_type": "markdown",
   "metadata": {},
   "source": [
    "### Conclusion\n",
    "- Karena nilai p-value < nilai alpha maka reject H0 yang berarti desain B membuat user untuk menghabiskan waktu lebih lama dibandingkan dengan desain A"
   ]
  },
  {
   "cell_type": "markdown",
   "metadata": {},
   "source": [
    "## Chi-Square\n",
    "- alpha / confidence level = 0.05"
   ]
  },
  {
   "cell_type": "markdown",
   "metadata": {},
   "source": [
    "### Hypothesis\n",
    "- H0 = 2 desain tersebut memiliki conversion rate yang sama\n",
    "- H1 = desain B memiliki conversion rate yang lebih tinggi dari desain A"
   ]
  },
  {
   "cell_type": "markdown",
   "metadata": {},
   "source": [
    "### Calculations"
   ]
  },
  {
   "cell_type": "code",
   "execution_count": 48,
   "metadata": {
    "scrolled": true
   },
   "outputs": [
    {
     "data": {
      "text/html": [
       "<div>\n",
       "<style scoped>\n",
       "    .dataframe tbody tr th:only-of-type {\n",
       "        vertical-align: middle;\n",
       "    }\n",
       "\n",
       "    .dataframe tbody tr th {\n",
       "        vertical-align: top;\n",
       "    }\n",
       "\n",
       "    .dataframe thead th {\n",
       "        text-align: right;\n",
       "    }\n",
       "</style>\n",
       "<table border=\"1\" class=\"dataframe\">\n",
       "  <thead>\n",
       "    <tr style=\"text-align: right;\">\n",
       "      <th></th>\n",
       "      <th>number_of_sessions</th>\n",
       "      <th>converted</th>\n",
       "      <th>non_converted</th>\n",
       "    </tr>\n",
       "  </thead>\n",
       "  <tbody>\n",
       "    <tr>\n",
       "      <th>A</th>\n",
       "      <td>6000</td>\n",
       "      <td>90.0</td>\n",
       "      <td>5910.0</td>\n",
       "    </tr>\n",
       "    <tr>\n",
       "      <th>B</th>\n",
       "      <td>4000</td>\n",
       "      <td>80.0</td>\n",
       "      <td>3920.0</td>\n",
       "    </tr>\n",
       "  </tbody>\n",
       "</table>\n",
       "</div>"
      ],
      "text/plain": [
       "   number_of_sessions  converted  non_converted\n",
       "A                6000       90.0         5910.0\n",
       "B                4000       80.0         3920.0"
      ]
     },
     "execution_count": 48,
     "metadata": {},
     "output_type": "execute_result"
    }
   ],
   "source": [
    "#bikin kolom baru yaitu converted dan non-converted\n",
    "data['converted'] = data['number_of_sessions'] * data['conversion_rate'] / 100\n",
    "data['non_converted'] = data['number_of_sessions'] - data['converted']\n",
    "data2 = data[['number_of_sessions', 'converted', 'non_converted']]\n",
    "data2"
   ]
  },
  {
   "cell_type": "markdown",
   "metadata": {},
   "source": [
    "- setelah mendapatkan 3 kolom diatas maka langkah selanjutnya adalah menghitung nilai p_hat\n",
    "- weight = (A_converted + B_converted) / (A_converted + B_converted + A_non_converted + B_non_converted)"
   ]
  },
  {
   "cell_type": "code",
   "execution_count": 49,
   "metadata": {},
   "outputs": [
    {
     "data": {
      "text/plain": [
       "0.017"
      ]
     },
     "execution_count": 49,
     "metadata": {},
     "output_type": "execute_result"
    }
   ],
   "source": [
    "weight = (90+80) / (90+80+5910+3920)\n",
    "weight"
   ]
  },
  {
   "cell_type": "code",
   "execution_count": 50,
   "metadata": {},
   "outputs": [
    {
     "data": {
      "text/html": [
       "<div>\n",
       "<style scoped>\n",
       "    .dataframe tbody tr th:only-of-type {\n",
       "        vertical-align: middle;\n",
       "    }\n",
       "\n",
       "    .dataframe tbody tr th {\n",
       "        vertical-align: top;\n",
       "    }\n",
       "\n",
       "    .dataframe thead th {\n",
       "        text-align: right;\n",
       "    }\n",
       "</style>\n",
       "<table border=\"1\" class=\"dataframe\">\n",
       "  <thead>\n",
       "    <tr style=\"text-align: right;\">\n",
       "      <th></th>\n",
       "      <th>number_of_sessions</th>\n",
       "      <th>converted</th>\n",
       "      <th>non_converted</th>\n",
       "    </tr>\n",
       "  </thead>\n",
       "  <tbody>\n",
       "    <tr>\n",
       "      <th>A</th>\n",
       "      <td>6000</td>\n",
       "      <td>102.0</td>\n",
       "      <td>5898.0</td>\n",
       "    </tr>\n",
       "    <tr>\n",
       "      <th>B</th>\n",
       "      <td>4000</td>\n",
       "      <td>68.0</td>\n",
       "      <td>3932.0</td>\n",
       "    </tr>\n",
       "  </tbody>\n",
       "</table>\n",
       "</div>"
      ],
      "text/plain": [
       "   number_of_sessions  converted  non_converted\n",
       "A                6000      102.0         5898.0\n",
       "B                4000       68.0         3932.0"
      ]
     },
     "execution_count": 50,
     "metadata": {},
     "output_type": "execute_result"
    }
   ],
   "source": [
    "#Lalu bikin tabel baru dengan p_hat sebagai weighted conversion rate\n",
    "data3 = data2.copy()\n",
    "data3['converted'] = data3['number_of_sessions'] * p_hat\n",
    "data3['non_converted'] = data3['number_of_sessions'] - data3['converted']\n",
    "data3"
   ]
  },
  {
   "cell_type": "code",
   "execution_count": 51,
   "metadata": {},
   "outputs": [
    {
     "name": "stdout",
     "output_type": "stream",
     "text": [
      "Nilai Distance adalag 3.590449404583807\n",
      "Nilai dari p-value adalah 0.05811252579106675\n"
     ]
    }
   ],
   "source": [
    "#kolom yang akan dipake adalah converted, dan non_converted dari data_2 (O) dan data_3 (T)\n",
    "T = np.array([102, 68, 5898, 3932])\n",
    "O = np.array([90, 80, 5910, 3920])\n",
    "\n",
    "D = np.sum(np.square(T-O)/T)\n",
    "\n",
    "pvalue = chi2.sf(D, df=1)\n",
    "\n",
    "print(f'Nilai Distance adalag {D}')\n",
    "print(f'Nilai dari p-value adalah {pvalue}')"
   ]
  },
  {
   "cell_type": "markdown",
   "metadata": {},
   "source": [
    "### Conclusions"
   ]
  },
  {
   "cell_type": "markdown",
   "metadata": {},
   "source": [
    "- Karena nilai p-value > alpha maka dapat ditarik kesimpulan bahwa Fail to Reject H0 bahwa desain A dan B memiliki conversion rate yang sama!"
   ]
  },
  {
   "cell_type": "markdown",
   "metadata": {},
   "source": [
    "## Final Conclusion"
   ]
  },
  {
   "cell_type": "markdown",
   "metadata": {},
   "source": [
    "- Setelah melakukan A/B testing akhirnya rangga mendapatkan kesimpulan yang akan dia laporkan ke bosnya yaitu:\n",
    "    1. Jika dilihat untuk rata-rata user menghabiskan waktu di website per session didapatkan bahwa desain B lebih bisa membuat user untuk bertahan lebih lama di website.\n",
    "    2. Jika dilihat dari conversion rate didapatkan kesimpulan bahwa kedua desain memberikan nilai conversion rate yang sama!\n",
    "    3. Saran saya adalah gunakan desain B karena Desain B mampu membuat user untuk bertahan lebih lama di website sehingga kemungkinan untuk melakukan transaksi akan tinggi."
   ]
  },
  {
   "cell_type": "code",
   "execution_count": null,
   "metadata": {},
   "outputs": [],
   "source": []
  }
 ],
 "metadata": {
  "kernelspec": {
   "display_name": "Python 3",
   "language": "python",
   "name": "python3"
  },
  "language_info": {
   "codemirror_mode": {
    "name": "ipython",
    "version": 3
   },
   "file_extension": ".py",
   "mimetype": "text/x-python",
   "name": "python",
   "nbconvert_exporter": "python",
   "pygments_lexer": "ipython3",
   "version": "3.7.3"
  }
 },
 "nbformat": 4,
 "nbformat_minor": 2
}
