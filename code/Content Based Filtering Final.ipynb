{
 "cells": [
  {
   "cell_type": "markdown",
   "metadata": {
    "colab_type": "text",
    "id": "r09aOFyyK3_w"
   },
   "source": [
    "# Content Based Filtering\n",
    "- Content Based Filtering (CBF) hanya membutuhkan single user, tidak seperti collaborative filtering yang membutuhkan banyak user untuk dibandingkan.\n",
    "- Cara kerja algoritma CBF adalah mencari sesuatu dalam kasus ini adalah film yang sudah user tonton. lalu mesin akan mencari film - film yang mirip dengan film yang sudah ditonton oleh user. Anggap saja user sudah menonton film AADC, lalu mesin mendeteksi bahwa film AADC itu mirip dengan film Dilan 1990. Maka mesin akan merekomendasikan film Dilan 1990 kepada user."
   ]
  },
  {
   "cell_type": "markdown",
   "metadata": {},
   "source": [
    "## Case Story\n",
    "- Rangga, seorang data scientist di netclick.com mendapatkan tugas baru dari managernya yaitu Asep.\n",
    "- Ucup merupakan tetangga Asep dan Ucup dan ingin melihat film yang bagus sesuai dengan seleranya. Lalu si Asep meminta rangga untuk menganalisa film apa yang cocok untuk si Ucup berdasarkan history film yang pernah ucup tonton.\n",
    "- Asep menantang Ucup untuk menggunakan algoritma CBF.\n",
    "- Dara dataset yang diberikan Asep, Ucup termasuk kedalam user yang mempunyai id 352."
   ]
  },
  {
   "cell_type": "markdown",
   "metadata": {
    "colab_type": "text",
    "id": "OYULecvRK3_y"
   },
   "source": [
    "## Load Library"
   ]
  },
  {
   "cell_type": "code",
   "execution_count": 1,
   "metadata": {
    "colab": {},
    "colab_type": "code",
    "id": "2P_JZfyRK3_0"
   },
   "outputs": [],
   "source": [
    "import pandas as pd\n",
    "from math import sqrt\n",
    "import numpy as np\n",
    "import matplotlib.pyplot as plt"
   ]
  },
  {
   "cell_type": "markdown",
   "metadata": {
    "colab_type": "text",
    "id": "hGC2FDwFK3_7"
   },
   "source": [
    "## Load Datasets\n",
    "- Dataset yang digunakan berasal dari MovieLens dengan 2 datasets yang akan kita gunakan yaitu data ratings dan movies."
   ]
  },
  {
   "cell_type": "code",
   "execution_count": 3,
   "metadata": {
    "colab": {},
    "colab_type": "code",
    "id": "NN3nY8CmK3_9"
   },
   "outputs": [],
   "source": [
    "movies = pd.read_csv('C:\\\\Users\\\\msi\\\\Documents\\\\Jupyter\\\\18. Unsupervised 2\\\\proyek\\\\dataset\\\\movies.csv')\n",
    "ratings = pd.read_csv('C:\\\\Users\\\\msi\\\\Documents\\\\Jupyter\\\\18. Unsupervised 2\\\\proyek\\\\dataset\\\\ratings.csv')"
   ]
  },
  {
   "cell_type": "markdown",
   "metadata": {},
   "source": [
    "## Data Cleaning"
   ]
  },
  {
   "cell_type": "code",
   "execution_count": 4,
   "metadata": {},
   "outputs": [],
   "source": [
    "#Menghapus tahun di title \n",
    "movies['title'] = movies['title'].str.replace('(\\(\\d\\d\\d\\d\\))', '')\n",
    "\n",
    "#Menghapus whitespace\n",
    "movies['title'] = movies['title'].apply(lambda x: x.strip())"
   ]
  },
  {
   "cell_type": "code",
   "execution_count": 5,
   "metadata": {},
   "outputs": [],
   "source": [
    "#Split genres karena akan digunakan di algoritma CBF\n",
    "movies['genres'] = movies['genres'].str.split('|')"
   ]
  },
  {
   "cell_type": "code",
   "execution_count": 6,
   "metadata": {},
   "outputs": [],
   "source": [
    "#Drop kolom timestamp\n",
    "ratings = ratings.drop(columns=['timestamp'])"
   ]
  },
  {
   "cell_type": "markdown",
   "metadata": {},
   "source": [
    "## Modelling"
   ]
  },
  {
   "cell_type": "code",
   "execution_count": 7,
   "metadata": {},
   "outputs": [],
   "source": [
    "def rekomendasi_film_content(user_id):\n",
    "    #Melakukan One Hot Encoding untuk dataframe baru\n",
    "    #Kita copy dulu\n",
    "    new_movies = movies.copy()\n",
    "    #Kita looping untuk setiap row di df, lalu looping lagi di genres list dan taroh list tsb ke dalam kolom\n",
    "    for index, row in movies.iterrows():\n",
    "        for genre in row['genres']:\n",
    "            new_movies.at[index, genre] = 1    \n",
    "    #Yang tidak termasuk genrenya ke dalam list maka kita diisi dengan 0\n",
    "    new_movies = new_movies.fillna(0)\n",
    "    \n",
    "    #Kita membuat movie input dari user\n",
    "    rating_grouping = ratings.groupby('userId')\n",
    "    user_id_film = rating_grouping.get_group(user_id).head(5)\n",
    "    \n",
    "    #Kemudian melakukan One Hot Encoding untuk input movie user\n",
    "    user_movie_encoding = new_movies[new_movies['movieId'].isin(user_id_film['movieId'].tolist())]\n",
    "    #Reset index\n",
    "    user_movie_encoding = user_movie_encoding.reset_index(drop=True)\n",
    "    #Drop unused columns\n",
    "    user_movie_encoding = user_movie_encoding.drop(columns=['movieId', 'title', 'genres'])\n",
    "    \n",
    "    #Mencari tahu user profile berdasarkan genrenya\n",
    "    #Menggunakan dot product untuk mendapatkan bobot dari setiap genre\n",
    "    user_profile = user_movie_encoding.transpose().dot(user_id_film['rating'].reset_index(drop=True))\n",
    "    \n",
    "    #Melakukan Rekomendasi Film\n",
    "    new_movies.set_index(new_movies['movieId'], inplace=True)\n",
    "    new_movies = new_movies.drop('movieId', 1).drop('title', 1).drop('genres', 1)\n",
    "    #Multiply the genres by the weights and then take the weighted average\n",
    "    rekomendasi_film = ((new_movies*user_profile).sum(axis=1))/(user_profile.sum())\n",
    "    #Urutkan berdasarkan nilai weughted average tertinggti\n",
    "    rekomendasi_film = rekomendasi_film.sort_values(ascending=False)\n",
    "    #Rekomendasi film final untuk User\n",
    "    rekomendasi_film_final = movies.loc[movies['movieId'].isin(rekomendasi_film.head(10).keys())]\n",
    "    \n",
    "    return rekomendasi_film_final"
   ]
  },
  {
   "cell_type": "code",
   "execution_count": 10,
   "metadata": {},
   "outputs": [
    {
     "name": "stdout",
     "output_type": "stream",
     "text": [
      "Masukan User Id: 352\n"
     ]
    },
    {
     "data": {
      "text/html": [
       "<div>\n",
       "<style scoped>\n",
       "    .dataframe tbody tr th:only-of-type {\n",
       "        vertical-align: middle;\n",
       "    }\n",
       "\n",
       "    .dataframe tbody tr th {\n",
       "        vertical-align: top;\n",
       "    }\n",
       "\n",
       "    .dataframe thead th {\n",
       "        text-align: right;\n",
       "    }\n",
       "</style>\n",
       "<table border=\"1\" class=\"dataframe\">\n",
       "  <thead>\n",
       "    <tr style=\"text-align: right;\">\n",
       "      <th></th>\n",
       "      <th>movieId</th>\n",
       "      <th>title</th>\n",
       "      <th>genres</th>\n",
       "    </tr>\n",
       "  </thead>\n",
       "  <tbody>\n",
       "    <tr>\n",
       "      <th>167</th>\n",
       "      <td>198</td>\n",
       "      <td>Strange Days</td>\n",
       "      <td>[Action, Crime, Drama, Mystery, Sci-Fi, Thriller]</td>\n",
       "    </tr>\n",
       "    <tr>\n",
       "      <th>1330</th>\n",
       "      <td>1799</td>\n",
       "      <td>Suicide Kings</td>\n",
       "      <td>[Comedy, Crime, Drama, Mystery, Thriller]</td>\n",
       "    </tr>\n",
       "    <tr>\n",
       "      <th>4940</th>\n",
       "      <td>7445</td>\n",
       "      <td>Man on Fire</td>\n",
       "      <td>[Action, Crime, Drama, Mystery, Thriller]</td>\n",
       "    </tr>\n",
       "    <tr>\n",
       "      <th>5327</th>\n",
       "      <td>8860</td>\n",
       "      <td>Cellular</td>\n",
       "      <td>[Action, Crime, Drama, Mystery, Thriller]</td>\n",
       "    </tr>\n",
       "    <tr>\n",
       "      <th>5556</th>\n",
       "      <td>26701</td>\n",
       "      <td>Patlabor: The Movie (Kidô keisatsu patorebâ: T...</td>\n",
       "      <td>[Action, Animation, Crime, Drama, Film-Noir, M...</td>\n",
       "    </tr>\n",
       "    <tr>\n",
       "      <th>5672</th>\n",
       "      <td>27674</td>\n",
       "      <td>11:14</td>\n",
       "      <td>[Comedy, Crime, Drama, Mystery, Thriller]</td>\n",
       "    </tr>\n",
       "    <tr>\n",
       "      <th>5808</th>\n",
       "      <td>31921</td>\n",
       "      <td>Seven-Per-Cent Solution, The</td>\n",
       "      <td>[Adventure, Comedy, Crime, Drama, Mystery, Thr...</td>\n",
       "    </tr>\n",
       "    <tr>\n",
       "      <th>7372</th>\n",
       "      <td>79132</td>\n",
       "      <td>Inception</td>\n",
       "      <td>[Action, Crime, Drama, Mystery, Sci-Fi, Thrill...</td>\n",
       "    </tr>\n",
       "    <tr>\n",
       "      <th>7441</th>\n",
       "      <td>81132</td>\n",
       "      <td>Rubber</td>\n",
       "      <td>[Action, Adventure, Comedy, Crime, Drama, Film...</td>\n",
       "    </tr>\n",
       "    <tr>\n",
       "      <th>9411</th>\n",
       "      <td>165347</td>\n",
       "      <td>Jack Reacher: Never Go Back</td>\n",
       "      <td>[Action, Crime, Drama, Mystery, Thriller]</td>\n",
       "    </tr>\n",
       "  </tbody>\n",
       "</table>\n",
       "</div>"
      ],
      "text/plain": [
       "      movieId                                              title  \\\n",
       "167       198                                       Strange Days   \n",
       "1330     1799                                      Suicide Kings   \n",
       "4940     7445                                        Man on Fire   \n",
       "5327     8860                                           Cellular   \n",
       "5556    26701  Patlabor: The Movie (Kidô keisatsu patorebâ: T...   \n",
       "5672    27674                                              11:14   \n",
       "5808    31921                       Seven-Per-Cent Solution, The   \n",
       "7372    79132                                          Inception   \n",
       "7441    81132                                             Rubber   \n",
       "9411   165347                        Jack Reacher: Never Go Back   \n",
       "\n",
       "                                                 genres  \n",
       "167   [Action, Crime, Drama, Mystery, Sci-Fi, Thriller]  \n",
       "1330          [Comedy, Crime, Drama, Mystery, Thriller]  \n",
       "4940          [Action, Crime, Drama, Mystery, Thriller]  \n",
       "5327          [Action, Crime, Drama, Mystery, Thriller]  \n",
       "5556  [Action, Animation, Crime, Drama, Film-Noir, M...  \n",
       "5672          [Comedy, Crime, Drama, Mystery, Thriller]  \n",
       "5808  [Adventure, Comedy, Crime, Drama, Mystery, Thr...  \n",
       "7372  [Action, Crime, Drama, Mystery, Sci-Fi, Thrill...  \n",
       "7441  [Action, Adventure, Comedy, Crime, Drama, Film...  \n",
       "9411          [Action, Crime, Drama, Mystery, Thriller]  "
      ]
     },
     "execution_count": 10,
     "metadata": {},
     "output_type": "execute_result"
    }
   ],
   "source": [
    "user = int(input('Masukan User Id: '))\n",
    "rekomendasi_film_content(user)"
   ]
  },
  {
   "cell_type": "markdown",
   "metadata": {},
   "source": [
    "- Jadi setelah melakukan analisis, Rangga memberikan 10 top film untuk Ucup adalah sebagai berikut:\n",
    "    1. Strange Days\n",
    "    2. Suicide Kings\n",
    "    3. Man on Fire\n",
    "    4. Cellular\t\n",
    "    5. Patlabor: The Movie\n",
    "    6. 11:14\n",
    "    7. Seven-Per-Cent Solution, The\n",
    "    8. Rubber\t\n",
    "    9. Inception\t\t\n",
    "    10. Jack Reacher: Never Go Back\t"
   ]
  }
 ],
 "metadata": {
  "colab": {
   "collapsed_sections": [],
   "name": "ML0101EN-RecSys-Content-Based-movies-py-v1 [ok].ipynb",
   "provenance": [],
   "toc_visible": true,
   "version": "0.3.2"
  },
  "kernelspec": {
   "display_name": "Python 3",
   "language": "python",
   "name": "python3"
  },
  "language_info": {
   "codemirror_mode": {
    "name": "ipython",
    "version": 3
   },
   "file_extension": ".py",
   "mimetype": "text/x-python",
   "name": "python",
   "nbconvert_exporter": "python",
   "pygments_lexer": "ipython3",
   "version": "3.7.3"
  }
 },
 "nbformat": 4,
 "nbformat_minor": 1
}
