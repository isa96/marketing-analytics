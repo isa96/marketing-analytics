{
 "cells": [
  {
   "cell_type": "markdown",
   "metadata": {},
   "source": [
    "# Collaborative Filtering\n",
    "\n",
    "Teknik collaborative filtering ini adalah teknik yang menggunakan orang lain untuk merekomendasikan sesuatu ke input user yang memiliki preferensi yang sama. Teknik yang akan saya gunakan untuk mengukur similarity adalah pearson correlation function.\n",
    "\n",
    "Proses dalam Collaborative Filtering kali ini adalah:\n",
    "\n",
    "- Pilih user dengan movienya yang sudah ia tonton.\n",
    "- Berdasarkan rating dari filmnya, akan mencari Top X neighbors. \n",
    "- Menghitung similarity score.\n",
    "- Rekomendasikan film yang memiliki score paling tinggi"
   ]
  },
  {
   "cell_type": "markdown",
   "metadata": {},
   "source": [
    "## Case Story\n",
    "- Rangga merupakan seorang data scientist dari yukbeli.com pindah ke netclix.com, ia ditugaskan oleh manager barunya yang bernama Asep untuk memberikan rekomendasi film untuk anak managernya yang bernama Cinta berdasarkan film yang sudah ditonton anaknya.\n",
    "- Berdasaran dataset yang diberikan, Cinta mempunyai User ID 600"
   ]
  },
  {
   "cell_type": "markdown",
   "metadata": {},
   "source": [
    "## Load Library"
   ]
  },
  {
   "cell_type": "code",
   "execution_count": 2,
   "metadata": {},
   "outputs": [],
   "source": [
    "import pandas as pd\n",
    "from math import sqrt\n",
    "import numpy as np\n",
    "import matplotlib.pyplot as plt\n",
    "import warnings\n",
    "warnings.filterwarnings('ignore')"
   ]
  },
  {
   "cell_type": "markdown",
   "metadata": {},
   "source": [
    "## Load Datasets\n",
    "- Dataset yang digunakan berasal dari MovieLens dengan 2 datasets yang akan kita gunakan yaitu data ratings dan movies"
   ]
  },
  {
   "cell_type": "code",
   "execution_count": 14,
   "metadata": {},
   "outputs": [],
   "source": [
    "movies = pd.read_csv('C:\\\\Users\\\\msi\\\\Documents\\\\Jupyter\\\\18. Unsupervised 2\\\\proyek\\\\dataset\\\\movies.csv', encoding='latin1')\n",
    "ratings = pd.read_csv('C:\\\\Users\\\\msi\\\\Documents\\\\Jupyter\\\\18. Unsupervised 2\\\\proyek\\\\dataset\\\\ratings.csv')"
   ]
  },
  {
   "cell_type": "markdown",
   "metadata": {},
   "source": [
    "## Data Cleaning"
   ]
  },
  {
   "cell_type": "code",
   "execution_count": 15,
   "metadata": {},
   "outputs": [],
   "source": [
    "#Menghapus kolom yang tidak digunakan di df movies\n",
    "movies.drop(columns=['genres'], inplace=True)"
   ]
  },
  {
   "cell_type": "code",
   "execution_count": 16,
   "metadata": {},
   "outputs": [],
   "source": [
    "#Menghapus tahun di title\n",
    "movies['title'] = movies['title'].str.replace('(\\(\\d\\d\\d\\d\\))', '')\n",
    "\n",
    "#Menghapus whitesoace\n",
    "movies['title'] = movies['title'].apply(lambda x: x.strip())"
   ]
  },
  {
   "cell_type": "code",
   "execution_count": 17,
   "metadata": {},
   "outputs": [],
   "source": [
    "#Menghapus kolom timestamp di df ratings\n",
    "ratings.drop(columns=['timestamp'], inplace=True)"
   ]
  },
  {
   "cell_type": "markdown",
   "metadata": {},
   "source": [
    "- Menggunakan Pearson Correlation Function:\n",
    "$$\n",
    "r=\\frac{\\sum  ( x-\\bar{x} ) ( y-\\bar{y} ) }{\\sqrt{\\sum ( x-\\bar{x} )^{2} ( y-\\bar{y} )^{2}}}\n",
    "$$"
   ]
  },
  {
   "cell_type": "markdown",
   "metadata": {},
   "source": [
    "## Modelling"
   ]
  },
  {
   "cell_type": "code",
   "execution_count": 18,
   "metadata": {},
   "outputs": [],
   "source": [
    "def rekomendasi_film_cf(user_id):\n",
    "    #Kita membuat movie input dari user\n",
    "    rating_grouping = ratings.groupby('userId')\n",
    "    user_id_film = rating_grouping.get_group(user_id)\n",
    "    \n",
    "    #Mencari user yang sudah melihat input movie\n",
    "    list_movie = rating_grouping.get_group(1)[['movieId','rating']].sort_values(by='rating', ascending=False).head(5)\n",
    "    set_user = ratings[ratings['movieId'].isin(user_id_film['movieId'].tolist())]\n",
    "    set_user_grouping = set_user.groupby(['userId'])\n",
    "    \n",
    "    #Lalu saya akan melakukan sorting data user berdasarkan kesamaan film input dan film yang sudah ditonton user.\n",
    "    set_user_grouping = sorted(set_user_grouping,  key=lambda x: len(x[1]), reverse=True)\n",
    "    \n",
    "    #Membuat dictionary dimana user id adalah key dan value adalah koefisien pearson\n",
    "    pearson_dict = {}\n",
    "\n",
    "    #Looping di set_user_grouping\n",
    "    for name, group in set_user_grouping:\n",
    "    \n",
    "        #Kita sorting dulu agar tidak mixed up\n",
    "        group = group.sort_values(by='movieId')\n",
    "        user_id_film = user_id_film.sort_values(by='movieId')\n",
    "    \n",
    "        #cari jumlah dari data \n",
    "        n_value = len(group)\n",
    "\n",
    "        #cari review scores movies yang disesuaikan dengan film yang sudah ditonton cinta\n",
    "        df_sementara = user_id_film[user_id_film['movieId'].isin(group['movieId'].tolist())]\n",
    "\n",
    "        #Simpan rating menjadi bentuk list\n",
    "        rating_list = df_sementara['rating'].tolist()\n",
    "\n",
    "        #Masukan juga reviews satu satu dari user yang ada di set_user_grouping kedalam bentuk list\n",
    "        grup_list = group['rating'].tolist()\n",
    "\n",
    "        #Lalu lakukan perhitungan untuk pearson correlation antara 2 users, cinta dan current user = x and y\n",
    "        Sxx = sum([i**2 for i in rating_list]) - pow(sum(rating_list),2)/float(n_value)\n",
    "        Syy = sum([i**2 for i in grup_list]) - pow(sum(grup_list),2)/float(n_value)\n",
    "        Sxy = sum( i*j for i, j in zip(rating_list, grup_list)) - sum(rating_list)*sum(grup_list)/float(n_value)\n",
    "\n",
    "        #Checking apakah penyebutnya 0 atau tidak, kalo tidak maka bisa dibagi, kalo tidak maka 0.\n",
    "        if Sxx != 0 and Syy != 0:\n",
    "            pearson_dict[name] = Sxy/sqrt(Sxx*Syy)\n",
    "        else:\n",
    "            pearson_dict[name] = 0\n",
    "            \n",
    "    #Organisasi pearson dictionary ke dalam dataframe\n",
    "    df_pearson = pd.DataFrame.from_dict(pearson_dict, orient='index')\n",
    "    df_pearson.columns = ['similarityIndex']\n",
    "    df_pearson['userId'] = df_pearson.index\n",
    "    df_pearson.index = range(len(df_pearson))\n",
    "    \n",
    "    #Kita cari top 50 aja yang similarity indexnya paling mendekati dengan input user\n",
    "    top_50=df_pearson.sort_values(by='similarityIndex', ascending=False)[0:50]\n",
    "    \n",
    "    #Tahap Rekomendasi Film\n",
    "    #Pertama, merge dulu ratings dan top50\n",
    "    top_50_new = top_50.merge(ratings, left_on='userId', right_on='userId', how='inner')\n",
    "    \n",
    "    #Kedua, Kalikan similarity index dan rating\n",
    "    top_50_new['bobot_rating'] = top_50_new['similarityIndex']*top_50_new['rating']\n",
    "    \n",
    "    #Ketiga, groupby berdasarkan movieID dan hanya mengambil kolom similarity index dan bobot_rating\n",
    "    bobot_df = top_50_new.groupby('movieId').sum()[['similarityIndex','bobot_rating']]\n",
    "    bobot_df.columns = ['similarity_index_total','bobot_rating_total']\n",
    "    \n",
    "    #Keempat, kita bagi bobot rating total dengan similarity index total\n",
    "    bobot_df['final_recommendation_score'] = bobot_df['bobot_rating_total']/bobot_df['similarity_index_total']\n",
    "    bobot_df['movieId'] = bobot_df.index\n",
    "    \n",
    "    #Kelima, kita sorting dari nilai recommendation score yang paling tinggi\n",
    "    final_rekomenadasi_film = bobot_df.sort_values(by=['final_recommendation_score'], ascending=False)\n",
    "    final_rekomenadasi_film.drop(columns=['similarity_index_total', 'bobot_rating_total'], inplace=True)\n",
    "    \n",
    "    final_movie_rekomendasi = movies.loc[movies['movieId'].isin(final_rekomenadasi_film.head(10)['movieId'].tolist())]\n",
    "    return final_movie_rekomendasi"
   ]
  },
  {
   "cell_type": "code",
   "execution_count": 19,
   "metadata": {},
   "outputs": [
    {
     "name": "stdout",
     "output_type": "stream",
     "text": [
      "Masukan User ID yang ingin direkomendasikan: 600\n"
     ]
    },
    {
     "data": {
      "text/html": [
       "<div>\n",
       "<style scoped>\n",
       "    .dataframe tbody tr th:only-of-type {\n",
       "        vertical-align: middle;\n",
       "    }\n",
       "\n",
       "    .dataframe tbody tr th {\n",
       "        vertical-align: top;\n",
       "    }\n",
       "\n",
       "    .dataframe thead th {\n",
       "        text-align: right;\n",
       "    }\n",
       "</style>\n",
       "<table border=\"1\" class=\"dataframe\">\n",
       "  <thead>\n",
       "    <tr style=\"text-align: right;\">\n",
       "      <th></th>\n",
       "      <th>movieId</th>\n",
       "      <th>title</th>\n",
       "    </tr>\n",
       "  </thead>\n",
       "  <tbody>\n",
       "    <tr>\n",
       "      <th>485</th>\n",
       "      <td>553</td>\n",
       "      <td>Tombstone</td>\n",
       "    </tr>\n",
       "    <tr>\n",
       "      <th>1644</th>\n",
       "      <td>2193</td>\n",
       "      <td>Willow</td>\n",
       "    </tr>\n",
       "    <tr>\n",
       "      <th>2654</th>\n",
       "      <td>3552</td>\n",
       "      <td>Caddyshack</td>\n",
       "    </tr>\n",
       "    <tr>\n",
       "      <th>3087</th>\n",
       "      <td>4144</td>\n",
       "      <td>In the Mood For Love (Fa yeung nin wa)</td>\n",
       "    </tr>\n",
       "    <tr>\n",
       "      <th>3559</th>\n",
       "      <td>4874</td>\n",
       "      <td>K-PAX</td>\n",
       "    </tr>\n",
       "    <tr>\n",
       "      <th>5773</th>\n",
       "      <td>31364</td>\n",
       "      <td>Memories of Murder (Salinui chueok)</td>\n",
       "    </tr>\n",
       "    <tr>\n",
       "      <th>6365</th>\n",
       "      <td>49772</td>\n",
       "      <td>Painted Veil, The</td>\n",
       "    </tr>\n",
       "    <tr>\n",
       "      <th>6486</th>\n",
       "      <td>53121</td>\n",
       "      <td>Shrek the Third</td>\n",
       "    </tr>\n",
       "    <tr>\n",
       "      <th>6589</th>\n",
       "      <td>55276</td>\n",
       "      <td>Michael Clayton</td>\n",
       "    </tr>\n",
       "    <tr>\n",
       "      <th>6944</th>\n",
       "      <td>65261</td>\n",
       "      <td>Ponyo (Gake no ue no Ponyo)</td>\n",
       "    </tr>\n",
       "  </tbody>\n",
       "</table>\n",
       "</div>"
      ],
      "text/plain": [
       "      movieId                                   title\n",
       "485       553                               Tombstone\n",
       "1644     2193                                  Willow\n",
       "2654     3552                              Caddyshack\n",
       "3087     4144  In the Mood For Love (Fa yeung nin wa)\n",
       "3559     4874                                   K-PAX\n",
       "5773    31364     Memories of Murder (Salinui chueok)\n",
       "6365    49772                       Painted Veil, The\n",
       "6486    53121                         Shrek the Third\n",
       "6589    55276                         Michael Clayton\n",
       "6944    65261             Ponyo (Gake no ue no Ponyo)"
      ]
     },
     "execution_count": 19,
     "metadata": {},
     "output_type": "execute_result"
    }
   ],
   "source": [
    "user = int(input('Masukan User ID yang ingin direkomendasikan: '))\n",
    "rekomendasi_film_cf(user)"
   ]
  },
  {
   "cell_type": "markdown",
   "metadata": {},
   "source": [
    "- Jadi setelah melakukan analisis, Rangga melaporkan hasilnya kepada bosnya yaitu top 10 film yang wajib ditonton oleh Cinta:\n",
    "    1. Tombstone\n",
    "    2. Willow\n",
    "    3. Caddyshack\n",
    "    4. In the Mood For Love (Fa yeung nin wa)\n",
    "    5. K-PAX\n",
    "    6. Memories of Murder (Salinui chueok)\n",
    "    7. Painted Veil, The\n",
    "    8. Shrek the Third\n",
    "    9. Michael Clayton\n",
    "    10. Ponyo (Gake no ue no Ponyo)"
   ]
  }
 ],
 "metadata": {
  "kernelspec": {
   "display_name": "Python 3",
   "language": "python",
   "name": "python3"
  },
  "language_info": {
   "codemirror_mode": {
    "name": "ipython",
    "version": 3
   },
   "file_extension": ".py",
   "mimetype": "text/x-python",
   "name": "python",
   "nbconvert_exporter": "python",
   "pygments_lexer": "ipython3",
   "version": "3.7.3"
  }
 },
 "nbformat": 4,
 "nbformat_minor": 2
}
